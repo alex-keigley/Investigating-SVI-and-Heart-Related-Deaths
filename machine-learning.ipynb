{
 "cells": [
  {
   "cell_type": "code",
   "execution_count": null,
   "metadata": {},
   "outputs": [],
   "source": [
    "# importing necessary packages"
   ]
  }
 ],
 "metadata": {
  "kernelspec": {
   "display_name": "Python 3",
   "language": "python",
   "name": "python3"
  },
  "language_info": {
   "name": "python",
   "version": "3.10.9"
  },
  "orig_nbformat": 4,
  "vscode": {
   "interpreter": {
    "hash": "796a2b5adaaa842c9b78e62f6009df4de6b28861ed15d27911e5c87767f65f4d"
   }
  }
 },
 "nbformat": 4,
 "nbformat_minor": 2
}

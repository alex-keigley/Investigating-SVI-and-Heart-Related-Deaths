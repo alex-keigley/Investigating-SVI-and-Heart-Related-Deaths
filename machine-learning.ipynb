{
 "cells": [
  {
   "attachments": {},
   "cell_type": "markdown",
   "metadata": {},
   "source": [
    "# Predicting Change in Heart-Related Deaths"
   ]
  },
  {
   "cell_type": "code",
   "execution_count": 80,
   "metadata": {},
   "outputs": [],
   "source": [
    "# importing necessary packages\n",
    "import pandas as pd\n",
    "from sklearn import preprocessing\n",
    "from sklearn.model_selection import KFold\n",
    "from sklearn import linear_model\n",
    "import matplotlib.pyplot as plt"
   ]
  },
  {
   "cell_type": "code",
   "execution_count": 81,
   "metadata": {},
   "outputs": [],
   "source": [
    "def coef_graph():\n",
    "    # plotting columns and their coef impact on predictions\n",
    "    coefs = pd.DataFrame(\n",
    "    regr.coef_,\n",
    "    #  columns=['Coefficients'], index=X_train.columns\n",
    "    columns=['Coefficients'], index=X.columns\n",
    "    )\n",
    "\n",
    "    # sort coefficients highest to lowest\n",
    "    coefs.sort_values(by=['Coefficients'], inplace=True)\n",
    "\n",
    "    # function to add value labels\n",
    "    def addlabels(x,y):\n",
    "        for i in range(len(x)):\n",
    "            plt.text(i,y[i],y[i])\n",
    "\n",
    "    # creating the graph\n",
    "    coefs.plot(kind='barh', figsize=(9, 7))\n",
    "    plt.title('Linear Regression Model')\n",
    "    plt.axvline(x=0, color='.5')\n",
    "    plt.subplots_adjust(left=.3)"
   ]
  },
  {
   "cell_type": "code",
   "execution_count": 67,
   "metadata": {},
   "outputs": [],
   "source": [
    "# loading in data cleaned in data-preparation.ipynb\n",
    "svi_mortality_2014 = pd.read_csv('./data/svi-mortality-county/2014-svi-mortality.csv', index_col=0)\n",
    "svi_mortality_2020 = pd.read_csv('./data/svi-mortality-county/2020-svi-mortality.csv', index_col=0)\n",
    "\n",
    "# rename columns to match\n",
    "svi_mortality_2020.rename(columns={'E_POV150': 'E_POV'}, inplace=True)\n",
    "\n",
    "# drop columns with no equivalent\n",
    "svi_mortality_2014.drop('E_PCI', axis=1, inplace=True)\n",
    "svi_mortality_2020.drop(['E_HBURD', 'E_NOINT', 'E_AFAM', 'E_HISP', 'E_ASIAN', 'E_AIAN', 'E_NHPI', 'E_TWOMORE', 'E_OTHERRACE'], axis=1, inplace=True)\n",
    "\n",
    "# create new df with calculated change in estimated values\n",
    "diff_2020_2014 = svi_mortality_2020 - svi_mortality_2014\n",
    "\n",
    "# drop all na rows\n",
    "diff_2020_2014.dropna(inplace=True)"
   ]
  },
  {
   "cell_type": "code",
   "execution_count": 69,
   "metadata": {},
   "outputs": [],
   "source": [
    "# Splitting dataset for predictions\n",
    "X = diff_2020_2014.drop('Deaths', axis=1)\n",
    "y = diff_2020_2014.Deaths"
   ]
  },
  {
   "cell_type": "code",
   "execution_count": 70,
   "metadata": {},
   "outputs": [],
   "source": [
    "# Scaling X learning data\n",
    "scaler = preprocessing.MinMaxScaler()\n",
    "names = X.columns\n",
    "d = scaler.fit_transform(X)\n",
    "X = pd.DataFrame(d, columns=names)"
   ]
  },
  {
   "cell_type": "code",
   "execution_count": 82,
   "metadata": {},
   "outputs": [
    {
     "name": "stdout",
     "output_type": "stream",
     "text": [
      "\n",
      "Model score on testing data: 0.8114482914254135\n",
      "Model score on training data: 0.4091949766890898\n",
      "\n",
      "Model score on testing data: 0.8236553763187812\n",
      "Model score on training data: 0.25628156940812485\n",
      "\n",
      "Model score on testing data: 0.8049021209242971\n",
      "Model score on training data: 0.6454692372757816\n",
      "\n",
      "Model score on testing data: 0.8020235181614166\n",
      "Model score on training data: 0.6857455211434513\n",
      "\n",
      "Model score on testing data: 0.8092229512316195\n",
      "Model score on training data: 0.31051708042962944\n",
      "\n",
      "Model score on testing data: 0.8147876636448248\n",
      "Model score on training data: 0.5415985944699424\n",
      "\n",
      "Model score on testing data: 0.8072129589890793\n",
      "Model score on training data: 0.6093217622006994\n",
      "\n",
      "Model score on testing data: 0.7411114162668266\n",
      "Model score on training data: 0.8787920363800901\n",
      "\n",
      "Model score on testing data: 0.8031438463249735\n",
      "Model score on training data: 0.6182496390285059\n",
      "\n",
      "Model score on testing data: 0.8041412244594606\n",
      "Model score on training data: 0.6018077763335488\n"
     ]
    }
   ],
   "source": [
    "# Splitting X and y into training datasets\n",
    "kf = KFold(n_splits=10, shuffle=True)\n",
    "# kf = KFold(n_splits=5,random_state=42,shuffle=True)\n",
    "for train_index,val_index in kf.split(X):\n",
    "    X_train,X_test = X.iloc[train_index],X.iloc[val_index],\n",
    "    y_train,y_test = y.iloc[train_index],y.iloc[val_index]\n",
    "\n",
    "    regr = linear_model.LinearRegression()\n",
    "    regr.fit(X_train, y_train)\n",
    "\n",
    "    # testing model for general accuracy\n",
    "    print(f'\\nModel score on testing data: {regr.score(X_train, y_train)}')\n",
    "    print(f'Model score on training data: {regr.score(X_test, y_test)}')\n",
    "\n",
    "    # coef_graph()"
   ]
  },
  {
   "cell_type": "code",
   "execution_count": null,
   "metadata": {},
   "outputs": [],
   "source": [
    "# https://machinelearningmastery.com/regression-tutorial-keras-deep-learning-library-python/"
   ]
  }
 ],
 "metadata": {
  "kernelspec": {
   "display_name": "Python 3",
   "language": "python",
   "name": "python3"
  },
  "language_info": {
   "codemirror_mode": {
    "name": "ipython",
    "version": 3
   },
   "file_extension": ".py",
   "mimetype": "text/x-python",
   "name": "python",
   "nbconvert_exporter": "python",
   "pygments_lexer": "ipython3",
   "version": "3.10.9"
  },
  "orig_nbformat": 4,
  "vscode": {
   "interpreter": {
    "hash": "796a2b5adaaa842c9b78e62f6009df4de6b28861ed15d27911e5c87767f65f4d"
   }
  }
 },
 "nbformat": 4,
 "nbformat_minor": 2
}

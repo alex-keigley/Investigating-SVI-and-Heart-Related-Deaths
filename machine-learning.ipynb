{
 "cells": [
  {
   "cell_type": "code",
   "execution_count": 11,
   "metadata": {},
   "outputs": [],
   "source": [
    "# importing necessary packages\n",
    "import pandas as pd\n",
    "from sklearn import preprocessing\n",
    "from sklearn.model_selection import KFold\n",
    "from sklearn import linear_model\n",
    "import matplotlib.pyplot as plt\n",
    "\n",
    "# notebook settings\n",
    "pd.set_option('display.max_columns', None)"
   ]
  },
  {
   "cell_type": "code",
   "execution_count": 12,
   "metadata": {},
   "outputs": [],
   "source": [
    "def coef_graph():\n",
    "    # plotting columns and their coef impact on predictions\n",
    "    coefs = pd.DataFrame(\n",
    "    regr.coef_,\n",
    "    #  columns=['Coefficients'], index=X_train.columns\n",
    "    columns=['Coefficients'], index=X.columns\n",
    "    )\n",
    "\n",
    "    # sort coefficients highest to lowest\n",
    "    coefs.sort_values(by=['Coefficients'], inplace=True)\n",
    "\n",
    "    # function to add value labels\n",
    "    def addlabels(x,y):\n",
    "        for i in range(len(x)):\n",
    "            plt.text(i,y[i],y[i])\n",
    "\n",
    "    # creating the graph\n",
    "    coefs.plot(kind='barh', figsize=(9, 7))\n",
    "    plt.title('Linear Regression Model')\n",
    "    plt.axvline(x=0, color='.5')\n",
    "    plt.subplots_adjust(left=.3)"
   ]
  },
  {
   "attachments": {},
   "cell_type": "markdown",
   "metadata": {},
   "source": [
    "# Data Preprocessing"
   ]
  },
  {
   "cell_type": "code",
   "execution_count": 13,
   "metadata": {},
   "outputs": [],
   "source": [
    "ml_df = pd.read_csv('./data/machine-learning.csv', index_col=0)"
   ]
  },
  {
   "cell_type": "code",
   "execution_count": 18,
   "metadata": {},
   "outputs": [],
   "source": [
    "# Splitting dataset for predictions\n",
    "y = ml_df['C-Deaths']\n",
    "X = ml_df.drop(['C-Deaths', 'Deaths'], axis=1)"
   ]
  },
  {
   "cell_type": "code",
   "execution_count": 20,
   "metadata": {},
   "outputs": [],
   "source": [
    "# Scaling X learning data\n",
    "scaler = preprocessing.MinMaxScaler()\n",
    "names = X.columns\n",
    "d = scaler.fit_transform(X)\n",
    "X = pd.DataFrame(d, columns=names)"
   ]
  },
  {
   "attachments": {},
   "cell_type": "markdown",
   "metadata": {},
   "source": [
    "# Multifactor Regression Approach"
   ]
  },
  {
   "cell_type": "code",
   "execution_count": 25,
   "metadata": {},
   "outputs": [
    {
     "name": "stdout",
     "output_type": "stream",
     "text": [
      "\n",
      "Model score on testing data: 0.38144288831807405\n",
      "Model score on training data: 0.6243210454483263\n",
      "\n",
      "Model score on testing data: 0.40131687160494156\n",
      "Model score on training data: 0.6209081231045419\n",
      "\n",
      "Model score on testing data: 0.3200122182941051\n",
      "Model score on training data: 0.6206508827113961\n",
      "\n",
      "Model score on testing data: 0.20705092799609326\n",
      "Model score on training data: 0.6272978861855582\n",
      "\n",
      "Model score on testing data: 0.6878308836175273\n",
      "Model score on training data: 0.5780414361689814\n",
      "\n",
      "Model score on testing data: 0.8130636687255717\n",
      "Model score on training data: 0.5634330861416024\n",
      "\n",
      "Model score on testing data: 0.508966201721859\n",
      "Model score on training data: 0.6140222007405991\n",
      "\n",
      "Model score on testing data: 0.31022258082370213\n",
      "Model score on training data: 0.6231426489634019\n",
      "\n",
      "Model score on testing data: 0.4141140891925482\n",
      "Model score on training data: 0.6216749834402713\n",
      "\n",
      "Model score on testing data: 0.469280725956587\n",
      "Model score on training data: 0.6173177779509321\n"
     ]
    }
   ],
   "source": [
    "# Splitting X and y into training datasets\n",
    "kf = KFold(n_splits=10, shuffle=True)\n",
    "# kf = KFold(n_splits=5,random_state=42,shuffle=True)\n",
    "for train_index,val_index in kf.split(X):\n",
    "    X_train,X_test = X.iloc[train_index],X.iloc[val_index],\n",
    "    y_train,y_test = y.iloc[train_index],y.iloc[val_index]\n",
    "\n",
    "    regr = linear_model.LinearRegression()\n",
    "    regr.fit(X_train, y_train)\n",
    "\n",
    "    # testing model for general accuracy\n",
    "    print(f'\\nModel score on testing data: {regr.score(X_test, y_test)}')\n",
    "    print(f'Model score on training data: {regr.score(X_train, y_train)}')\n",
    "\n",
    "    # coef_graph()"
   ]
  },
  {
   "cell_type": "code",
   "execution_count": null,
   "metadata": {},
   "outputs": [],
   "source": []
  }
 ],
 "metadata": {
  "kernelspec": {
   "display_name": "Python 3",
   "language": "python",
   "name": "python3"
  },
  "language_info": {
   "codemirror_mode": {
    "name": "ipython",
    "version": 3
   },
   "file_extension": ".py",
   "mimetype": "text/x-python",
   "name": "python",
   "nbconvert_exporter": "python",
   "pygments_lexer": "ipython3",
   "version": "3.10.10"
  },
  "orig_nbformat": 4,
  "vscode": {
   "interpreter": {
    "hash": "796a2b5adaaa842c9b78e62f6009df4de6b28861ed15d27911e5c87767f65f4d"
   }
  }
 },
 "nbformat": 4,
 "nbformat_minor": 2
}

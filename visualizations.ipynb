{
 "cells": [
  {
   "cell_type": "code",
   "execution_count": 3,
   "metadata": {},
   "outputs": [],
   "source": [
    "import pandas as pd\n",
    "import plotly.express as px\n",
    "import matplotlib.pyplot as plt\n",
    "import numpy as np"
   ]
  },
  {
   "attachments": {},
   "cell_type": "markdown",
   "metadata": {},
   "source": [
    "# State-Level Viszualizations"
   ]
  },
  {
   "cell_type": "code",
   "execution_count": 1,
   "metadata": {},
   "outputs": [],
   "source": [
    "# dictionary for translating state abbreviations\n",
    "states = {\n",
    "        'AK': 'Alaska',\n",
    "        'AL': 'Alabama',\n",
    "        'AR': 'Arkansas',\n",
    "        'AS': 'American Samoa',\n",
    "        'AZ': 'Arizona',\n",
    "        'CA': 'California',\n",
    "        'CO': 'Colorado',\n",
    "        'CT': 'Connecticut',\n",
    "        'DC': 'District of Columbia',\n",
    "        'DE': 'Delaware',\n",
    "        'FL': 'Florida',\n",
    "        'GA': 'Georgia',\n",
    "        'GU': 'Guam',\n",
    "        'HI': 'Hawaii',\n",
    "        'IA': 'Iowa',\n",
    "        'ID': 'Idaho',\n",
    "        'IL': 'Illinois',\n",
    "        'IN': 'Indiana',\n",
    "        'KS': 'Kansas',\n",
    "        'KY': 'Kentucky',\n",
    "        'LA': 'Louisiana',\n",
    "        'MA': 'Massachusetts',\n",
    "        'MD': 'Maryland',\n",
    "        'ME': 'Maine',\n",
    "        'MI': 'Michigan',\n",
    "        'MN': 'Minnesota',\n",
    "        'MO': 'Missouri',\n",
    "        'MP': 'Northern Mariana Islands',\n",
    "        'MS': 'Mississippi',\n",
    "        'MT': 'Montana',\n",
    "        'NA': 'National',\n",
    "        'NC': 'North Carolina',\n",
    "        'ND': 'North Dakota',\n",
    "        'NE': 'Nebraska',\n",
    "        'NH': 'New Hampshire',\n",
    "        'NJ': 'New Jersey',\n",
    "        'NM': 'New Mexico',\n",
    "        'NV': 'Nevada',\n",
    "        'NY': 'New York',\n",
    "        'OH': 'Ohio',\n",
    "        'OK': 'Oklahoma',\n",
    "        'OR': 'Oregon',\n",
    "        'PA': 'Pennsylvania',\n",
    "        'PR': 'Puerto Rico',\n",
    "        'RI': 'Rhode Island',\n",
    "        'SC': 'South Carolina',\n",
    "        'SD': 'South Dakota',\n",
    "        'TN': 'Tennessee',\n",
    "        'TX': 'Texas',\n",
    "        'UT': 'Utah',\n",
    "        'VA': 'Virginia',\n",
    "        'VI': 'Virgin Islands',\n",
    "        'VT': 'Vermont',\n",
    "        'WA': 'Washington',\n",
    "        'WI': 'Wisconsin',\n",
    "        'WV': 'West Virginia',\n",
    "        'WY': 'Wyoming'\n",
    "}"
   ]
  },
  {
   "cell_type": "code",
   "execution_count": 2,
   "metadata": {},
   "outputs": [],
   "source": [
    "# importing state level data\n",
    "svi_2014 = pd.read_csv('./data/svi-mortality-state/2014-svi-mortality.csv')\n",
    "svi_2016 = pd.read_csv('./data/svi-mortality-state/2016-svi-mortality.csv')\n",
    "svi_2018 = pd.read_csv('./data/svi-mortality-state/2018-svi-mortality.csv')\n",
    "svi_2020 = pd.read_csv('./data/svi-mortality-state/2020-svi-mortality.csv')\n",
    "\n",
    "# doing math\n",
    "change_2014_2020 = pd.DataFrame(svi_2014['ST_ABBR'])\n",
    "change_2014_2020['Change in Deaths per 100,000 Population'] = svi_2020['Deaths per 100,000 Population'] - svi_2014['Deaths per 100,000 Population']"
   ]
  },
  {
   "cell_type": "code",
   "execution_count": 3,
   "metadata": {},
   "outputs": [
    {
     "data": {
      "application/vnd.plotly.v1+json": {
       "config": {
        "plotlyServerURL": "https://plot.ly"
       },
       "data": [
        {
         "coloraxis": "coloraxis",
         "geo": "geo",
         "hovertemplate": "ST_ABBR=%{location}<br>Deaths per 100,000 Population=%{z}<extra></extra>",
         "locationmode": "USA-states",
         "locations": [
          "AK",
          "AL",
          "AR",
          "AZ",
          "CA",
          "CO",
          "CT",
          "DC",
          "DE",
          "FL",
          "GA",
          "HI",
          "IA",
          "ID",
          "IL",
          "IN",
          "KS",
          "KY",
          "LA",
          "MA",
          "MD",
          "ME",
          "MI",
          "MN",
          "MO",
          "MS",
          "MT",
          "NC",
          "ND",
          "NE",
          "NH",
          "NJ",
          "NM",
          "NV",
          "NY",
          "OH",
          "OK",
          "OR",
          "PA",
          "RI",
          "SC",
          "SD",
          "TN",
          "TX",
          "UT",
          "VA",
          "VT",
          "WA",
          "WI",
          "WV",
          "WY"
         ],
         "name": "",
         "type": "choropleth",
         "z": [
          109.54515469308572,
          258.6515744721835,
          257.2415131678066,
          164.6723104843454,
          152.9021927956909,
          132.99680135758695,
          195.37573638250885,
          208.91980256763068,
          209.47375308049635,
          229.89091092394756,
          172.66187633060204,
          181.4551018898761,
          214.9041816487748,
          167.92324160241324,
          194.50893551914845,
          210.38115764967992,
          189.6494355696871,
          228.43665645207503,
          231.40375162272775,
          177.50463364152176,
          189.12064589413728,
          208.9519658872367,
          249.69588321915617,
          142.241323223517,
          237.80388033536155,
          252.59246694508263,
          195.9099465528253,
          180.4398151235776,
          194.83518533811704,
          177.34595303905965,
          186.51561727661465,
          206.42582789501543,
          164.38792443010408,
          208.92159769409488,
          220.04324720467605,
          233.5563363834061,
          258.3576454098406,
          167.30547561529752,
          245.76224008706436,
          222.26399759981467,
          210.77691091671667,
          205.3014144442057,
          235.9655669769111,
          158.82343274669094,
          120.0846827742415,
          169.72149838331293,
          209.9569926805316,
          155.25854215592756,
          196.195660724681,
          253.090678420028,
          179.13293374700353
         ]
        }
       ],
       "layout": {
        "coloraxis": {
         "colorbar": {
          "title": {
           "text": "Deaths per 100,000 Population"
          }
         },
         "colorscale": [
          [
           0,
           "rgb(23, 28, 66)"
          ],
          [
           0.09090909090909091,
           "rgb(41, 58, 143)"
          ],
          [
           0.18181818181818182,
           "rgb(11, 102, 189)"
          ],
          [
           0.2727272727272727,
           "rgb(69, 144, 185)"
          ],
          [
           0.36363636363636365,
           "rgb(142, 181, 194)"
          ],
          [
           0.45454545454545453,
           "rgb(210, 216, 219)"
          ],
          [
           0.5454545454545454,
           "rgb(230, 210, 204)"
          ],
          [
           0.6363636363636364,
           "rgb(213, 157, 137)"
          ],
          [
           0.7272727272727273,
           "rgb(196, 101, 72)"
          ],
          [
           0.8181818181818182,
           "rgb(172, 43, 36)"
          ],
          [
           0.9090909090909091,
           "rgb(120, 14, 40)"
          ],
          [
           1,
           "rgb(60, 9, 17)"
          ]
         ]
        },
        "geo": {
         "center": {},
         "domain": {
          "x": [
           0,
           1
          ],
          "y": [
           0,
           1
          ]
         },
         "scope": "usa"
        },
        "height": 600,
        "legend": {
         "tracegroupgap": 0
        },
        "template": {
         "data": {
          "bar": [
           {
            "error_x": {
             "color": "#2a3f5f"
            },
            "error_y": {
             "color": "#2a3f5f"
            },
            "marker": {
             "line": {
              "color": "#E5ECF6",
              "width": 0.5
             },
             "pattern": {
              "fillmode": "overlay",
              "size": 10,
              "solidity": 0.2
             }
            },
            "type": "bar"
           }
          ],
          "barpolar": [
           {
            "marker": {
             "line": {
              "color": "#E5ECF6",
              "width": 0.5
             },
             "pattern": {
              "fillmode": "overlay",
              "size": 10,
              "solidity": 0.2
             }
            },
            "type": "barpolar"
           }
          ],
          "carpet": [
           {
            "aaxis": {
             "endlinecolor": "#2a3f5f",
             "gridcolor": "white",
             "linecolor": "white",
             "minorgridcolor": "white",
             "startlinecolor": "#2a3f5f"
            },
            "baxis": {
             "endlinecolor": "#2a3f5f",
             "gridcolor": "white",
             "linecolor": "white",
             "minorgridcolor": "white",
             "startlinecolor": "#2a3f5f"
            },
            "type": "carpet"
           }
          ],
          "choropleth": [
           {
            "colorbar": {
             "outlinewidth": 0,
             "ticks": ""
            },
            "type": "choropleth"
           }
          ],
          "contour": [
           {
            "colorbar": {
             "outlinewidth": 0,
             "ticks": ""
            },
            "colorscale": [
             [
              0,
              "#0d0887"
             ],
             [
              0.1111111111111111,
              "#46039f"
             ],
             [
              0.2222222222222222,
              "#7201a8"
             ],
             [
              0.3333333333333333,
              "#9c179e"
             ],
             [
              0.4444444444444444,
              "#bd3786"
             ],
             [
              0.5555555555555556,
              "#d8576b"
             ],
             [
              0.6666666666666666,
              "#ed7953"
             ],
             [
              0.7777777777777778,
              "#fb9f3a"
             ],
             [
              0.8888888888888888,
              "#fdca26"
             ],
             [
              1,
              "#f0f921"
             ]
            ],
            "type": "contour"
           }
          ],
          "contourcarpet": [
           {
            "colorbar": {
             "outlinewidth": 0,
             "ticks": ""
            },
            "type": "contourcarpet"
           }
          ],
          "heatmap": [
           {
            "colorbar": {
             "outlinewidth": 0,
             "ticks": ""
            },
            "colorscale": [
             [
              0,
              "#0d0887"
             ],
             [
              0.1111111111111111,
              "#46039f"
             ],
             [
              0.2222222222222222,
              "#7201a8"
             ],
             [
              0.3333333333333333,
              "#9c179e"
             ],
             [
              0.4444444444444444,
              "#bd3786"
             ],
             [
              0.5555555555555556,
              "#d8576b"
             ],
             [
              0.6666666666666666,
              "#ed7953"
             ],
             [
              0.7777777777777778,
              "#fb9f3a"
             ],
             [
              0.8888888888888888,
              "#fdca26"
             ],
             [
              1,
              "#f0f921"
             ]
            ],
            "type": "heatmap"
           }
          ],
          "heatmapgl": [
           {
            "colorbar": {
             "outlinewidth": 0,
             "ticks": ""
            },
            "colorscale": [
             [
              0,
              "#0d0887"
             ],
             [
              0.1111111111111111,
              "#46039f"
             ],
             [
              0.2222222222222222,
              "#7201a8"
             ],
             [
              0.3333333333333333,
              "#9c179e"
             ],
             [
              0.4444444444444444,
              "#bd3786"
             ],
             [
              0.5555555555555556,
              "#d8576b"
             ],
             [
              0.6666666666666666,
              "#ed7953"
             ],
             [
              0.7777777777777778,
              "#fb9f3a"
             ],
             [
              0.8888888888888888,
              "#fdca26"
             ],
             [
              1,
              "#f0f921"
             ]
            ],
            "type": "heatmapgl"
           }
          ],
          "histogram": [
           {
            "marker": {
             "pattern": {
              "fillmode": "overlay",
              "size": 10,
              "solidity": 0.2
             }
            },
            "type": "histogram"
           }
          ],
          "histogram2d": [
           {
            "colorbar": {
             "outlinewidth": 0,
             "ticks": ""
            },
            "colorscale": [
             [
              0,
              "#0d0887"
             ],
             [
              0.1111111111111111,
              "#46039f"
             ],
             [
              0.2222222222222222,
              "#7201a8"
             ],
             [
              0.3333333333333333,
              "#9c179e"
             ],
             [
              0.4444444444444444,
              "#bd3786"
             ],
             [
              0.5555555555555556,
              "#d8576b"
             ],
             [
              0.6666666666666666,
              "#ed7953"
             ],
             [
              0.7777777777777778,
              "#fb9f3a"
             ],
             [
              0.8888888888888888,
              "#fdca26"
             ],
             [
              1,
              "#f0f921"
             ]
            ],
            "type": "histogram2d"
           }
          ],
          "histogram2dcontour": [
           {
            "colorbar": {
             "outlinewidth": 0,
             "ticks": ""
            },
            "colorscale": [
             [
              0,
              "#0d0887"
             ],
             [
              0.1111111111111111,
              "#46039f"
             ],
             [
              0.2222222222222222,
              "#7201a8"
             ],
             [
              0.3333333333333333,
              "#9c179e"
             ],
             [
              0.4444444444444444,
              "#bd3786"
             ],
             [
              0.5555555555555556,
              "#d8576b"
             ],
             [
              0.6666666666666666,
              "#ed7953"
             ],
             [
              0.7777777777777778,
              "#fb9f3a"
             ],
             [
              0.8888888888888888,
              "#fdca26"
             ],
             [
              1,
              "#f0f921"
             ]
            ],
            "type": "histogram2dcontour"
           }
          ],
          "mesh3d": [
           {
            "colorbar": {
             "outlinewidth": 0,
             "ticks": ""
            },
            "type": "mesh3d"
           }
          ],
          "parcoords": [
           {
            "line": {
             "colorbar": {
              "outlinewidth": 0,
              "ticks": ""
             }
            },
            "type": "parcoords"
           }
          ],
          "pie": [
           {
            "automargin": true,
            "type": "pie"
           }
          ],
          "scatter": [
           {
            "fillpattern": {
             "fillmode": "overlay",
             "size": 10,
             "solidity": 0.2
            },
            "type": "scatter"
           }
          ],
          "scatter3d": [
           {
            "line": {
             "colorbar": {
              "outlinewidth": 0,
              "ticks": ""
             }
            },
            "marker": {
             "colorbar": {
              "outlinewidth": 0,
              "ticks": ""
             }
            },
            "type": "scatter3d"
           }
          ],
          "scattercarpet": [
           {
            "marker": {
             "colorbar": {
              "outlinewidth": 0,
              "ticks": ""
             }
            },
            "type": "scattercarpet"
           }
          ],
          "scattergeo": [
           {
            "marker": {
             "colorbar": {
              "outlinewidth": 0,
              "ticks": ""
             }
            },
            "type": "scattergeo"
           }
          ],
          "scattergl": [
           {
            "marker": {
             "colorbar": {
              "outlinewidth": 0,
              "ticks": ""
             }
            },
            "type": "scattergl"
           }
          ],
          "scattermapbox": [
           {
            "marker": {
             "colorbar": {
              "outlinewidth": 0,
              "ticks": ""
             }
            },
            "type": "scattermapbox"
           }
          ],
          "scatterpolar": [
           {
            "marker": {
             "colorbar": {
              "outlinewidth": 0,
              "ticks": ""
             }
            },
            "type": "scatterpolar"
           }
          ],
          "scatterpolargl": [
           {
            "marker": {
             "colorbar": {
              "outlinewidth": 0,
              "ticks": ""
             }
            },
            "type": "scatterpolargl"
           }
          ],
          "scatterternary": [
           {
            "marker": {
             "colorbar": {
              "outlinewidth": 0,
              "ticks": ""
             }
            },
            "type": "scatterternary"
           }
          ],
          "surface": [
           {
            "colorbar": {
             "outlinewidth": 0,
             "ticks": ""
            },
            "colorscale": [
             [
              0,
              "#0d0887"
             ],
             [
              0.1111111111111111,
              "#46039f"
             ],
             [
              0.2222222222222222,
              "#7201a8"
             ],
             [
              0.3333333333333333,
              "#9c179e"
             ],
             [
              0.4444444444444444,
              "#bd3786"
             ],
             [
              0.5555555555555556,
              "#d8576b"
             ],
             [
              0.6666666666666666,
              "#ed7953"
             ],
             [
              0.7777777777777778,
              "#fb9f3a"
             ],
             [
              0.8888888888888888,
              "#fdca26"
             ],
             [
              1,
              "#f0f921"
             ]
            ],
            "type": "surface"
           }
          ],
          "table": [
           {
            "cells": {
             "fill": {
              "color": "#EBF0F8"
             },
             "line": {
              "color": "white"
             }
            },
            "header": {
             "fill": {
              "color": "#C8D4E3"
             },
             "line": {
              "color": "white"
             }
            },
            "type": "table"
           }
          ]
         },
         "layout": {
          "annotationdefaults": {
           "arrowcolor": "#2a3f5f",
           "arrowhead": 0,
           "arrowwidth": 1
          },
          "autotypenumbers": "strict",
          "coloraxis": {
           "colorbar": {
            "outlinewidth": 0,
            "ticks": ""
           }
          },
          "colorscale": {
           "diverging": [
            [
             0,
             "#8e0152"
            ],
            [
             0.1,
             "#c51b7d"
            ],
            [
             0.2,
             "#de77ae"
            ],
            [
             0.3,
             "#f1b6da"
            ],
            [
             0.4,
             "#fde0ef"
            ],
            [
             0.5,
             "#f7f7f7"
            ],
            [
             0.6,
             "#e6f5d0"
            ],
            [
             0.7,
             "#b8e186"
            ],
            [
             0.8,
             "#7fbc41"
            ],
            [
             0.9,
             "#4d9221"
            ],
            [
             1,
             "#276419"
            ]
           ],
           "sequential": [
            [
             0,
             "#0d0887"
            ],
            [
             0.1111111111111111,
             "#46039f"
            ],
            [
             0.2222222222222222,
             "#7201a8"
            ],
            [
             0.3333333333333333,
             "#9c179e"
            ],
            [
             0.4444444444444444,
             "#bd3786"
            ],
            [
             0.5555555555555556,
             "#d8576b"
            ],
            [
             0.6666666666666666,
             "#ed7953"
            ],
            [
             0.7777777777777778,
             "#fb9f3a"
            ],
            [
             0.8888888888888888,
             "#fdca26"
            ],
            [
             1,
             "#f0f921"
            ]
           ],
           "sequentialminus": [
            [
             0,
             "#0d0887"
            ],
            [
             0.1111111111111111,
             "#46039f"
            ],
            [
             0.2222222222222222,
             "#7201a8"
            ],
            [
             0.3333333333333333,
             "#9c179e"
            ],
            [
             0.4444444444444444,
             "#bd3786"
            ],
            [
             0.5555555555555556,
             "#d8576b"
            ],
            [
             0.6666666666666666,
             "#ed7953"
            ],
            [
             0.7777777777777778,
             "#fb9f3a"
            ],
            [
             0.8888888888888888,
             "#fdca26"
            ],
            [
             1,
             "#f0f921"
            ]
           ]
          },
          "colorway": [
           "#636efa",
           "#EF553B",
           "#00cc96",
           "#ab63fa",
           "#FFA15A",
           "#19d3f3",
           "#FF6692",
           "#B6E880",
           "#FF97FF",
           "#FECB52"
          ],
          "font": {
           "color": "#2a3f5f"
          },
          "geo": {
           "bgcolor": "white",
           "lakecolor": "white",
           "landcolor": "#E5ECF6",
           "showlakes": true,
           "showland": true,
           "subunitcolor": "white"
          },
          "hoverlabel": {
           "align": "left"
          },
          "hovermode": "closest",
          "mapbox": {
           "style": "light"
          },
          "paper_bgcolor": "white",
          "plot_bgcolor": "#E5ECF6",
          "polar": {
           "angularaxis": {
            "gridcolor": "white",
            "linecolor": "white",
            "ticks": ""
           },
           "bgcolor": "#E5ECF6",
           "radialaxis": {
            "gridcolor": "white",
            "linecolor": "white",
            "ticks": ""
           }
          },
          "scene": {
           "xaxis": {
            "backgroundcolor": "#E5ECF6",
            "gridcolor": "white",
            "gridwidth": 2,
            "linecolor": "white",
            "showbackground": true,
            "ticks": "",
            "zerolinecolor": "white"
           },
           "yaxis": {
            "backgroundcolor": "#E5ECF6",
            "gridcolor": "white",
            "gridwidth": 2,
            "linecolor": "white",
            "showbackground": true,
            "ticks": "",
            "zerolinecolor": "white"
           },
           "zaxis": {
            "backgroundcolor": "#E5ECF6",
            "gridcolor": "white",
            "gridwidth": 2,
            "linecolor": "white",
            "showbackground": true,
            "ticks": "",
            "zerolinecolor": "white"
           }
          },
          "shapedefaults": {
           "line": {
            "color": "#2a3f5f"
           }
          },
          "ternary": {
           "aaxis": {
            "gridcolor": "white",
            "linecolor": "white",
            "ticks": ""
           },
           "baxis": {
            "gridcolor": "white",
            "linecolor": "white",
            "ticks": ""
           },
           "bgcolor": "#E5ECF6",
           "caxis": {
            "gridcolor": "white",
            "linecolor": "white",
            "ticks": ""
           }
          },
          "title": {
           "x": 0.05
          },
          "xaxis": {
           "automargin": true,
           "gridcolor": "white",
           "linecolor": "white",
           "ticks": "",
           "title": {
            "standoff": 15
           },
           "zerolinecolor": "white",
           "zerolinewidth": 2
          },
          "yaxis": {
           "automargin": true,
           "gridcolor": "white",
           "linecolor": "white",
           "ticks": "",
           "title": {
            "standoff": 15
           },
           "zerolinecolor": "white",
           "zerolinewidth": 2
          }
         }
        },
        "title": {
         "text": "2014 Heart-Related Deaths"
        },
        "width": 1200
       }
      }
     },
     "metadata": {},
     "output_type": "display_data"
    }
   ],
   "source": [
    "# 2014 state map\n",
    "fig = px.choropleth(svi_2014,\n",
    "                    locations='ST_ABBR',\n",
    "                    locationmode='USA-states',\n",
    "                    scope='usa',\n",
    "                    color='Deaths per 100,000 Population',\n",
    "                    color_continuous_scale='balance',\n",
    "                    title='2014 Heart-Related Deaths',\n",
    "                    width=1200,\n",
    "                    height=600\n",
    "                    )\n",
    "\n",
    "fig.write_image('./images/2014-deaths-graph.png')\n",
    "fig.show()"
   ]
  },
  {
   "cell_type": "code",
   "execution_count": 4,
   "metadata": {},
   "outputs": [
    {
     "data": {
      "application/vnd.plotly.v1+json": {
       "config": {
        "plotlyServerURL": "https://plot.ly"
       },
       "data": [
        {
         "coloraxis": "coloraxis",
         "geo": "geo",
         "hovertemplate": "ST_ABBR=%{location}<br>Deaths per 100,000 Population=%{z}<extra></extra>",
         "locationmode": "USA-states",
         "locations": [
          "AK",
          "AL",
          "AR",
          "AZ",
          "CA",
          "CO",
          "CT",
          "DC",
          "DE",
          "FL",
          "GA",
          "HI",
          "IA",
          "ID",
          "IL",
          "IN",
          "KS",
          "KY",
          "LA",
          "MA",
          "MD",
          "ME",
          "MI",
          "MN",
          "MO",
          "MS",
          "MT",
          "NC",
          "ND",
          "NE",
          "NH",
          "NJ",
          "NM",
          "NV",
          "NY",
          "OH",
          "OK",
          "OR",
          "PA",
          "RI",
          "SC",
          "SD",
          "TN",
          "TX",
          "UT",
          "VA",
          "VT",
          "WA",
          "WI",
          "WV",
          "WY"
         ],
         "name": "",
         "type": "choropleth",
         "z": [
          124.7950010175132,
          301.21479134453506,
          286.2338485055645,
          197.8794724998272,
          169.08661859958903,
          141.14692556542522,
          199.12904150034072,
          192.3148150786212,
          224.3512569767454,
          232.30040320642144,
          201.02377706640547,
          184.76541202757323,
          238.1150643692525,
          183.0074592474057,
          215.94562636971335,
          226.5080239448353,
          215.47536921539088,
          254.24832834919312,
          262.72259066984293,
          171.55870821480866,
          209.0888733713792,
          226.3531780806593,
          271.9968952461465,
          152.9130481210154,
          260.2482559116568,
          295.44268089909053,
          227.4820382158203,
          196.16157021767037,
          188.2684931198216,
          181.44067936149452,
          207.63788660934856,
          222.2067661870269,
          201.10079747362343,
          240.36511928379736,
          248.76441524092755,
          261.63837682624177,
          297.8011284267366,
          176.39386030459704,
          257.4153655933601,
          219.22900213462304,
          223.60722747267656,
          207.36861312068805,
          264.94816802879035,
          175.55185618962403,
          134.95858332758633,
          184.5314883796755,
          243.61725982637665,
          160.83444837139643,
          217.69315226474467,
          283.4417563983256,
          202.0826604441328
         ]
        }
       ],
       "layout": {
        "coloraxis": {
         "colorbar": {
          "title": {
           "text": "Deaths per 100,000 Population"
          }
         },
         "colorscale": [
          [
           0,
           "rgb(23, 28, 66)"
          ],
          [
           0.09090909090909091,
           "rgb(41, 58, 143)"
          ],
          [
           0.18181818181818182,
           "rgb(11, 102, 189)"
          ],
          [
           0.2727272727272727,
           "rgb(69, 144, 185)"
          ],
          [
           0.36363636363636365,
           "rgb(142, 181, 194)"
          ],
          [
           0.45454545454545453,
           "rgb(210, 216, 219)"
          ],
          [
           0.5454545454545454,
           "rgb(230, 210, 204)"
          ],
          [
           0.6363636363636364,
           "rgb(213, 157, 137)"
          ],
          [
           0.7272727272727273,
           "rgb(196, 101, 72)"
          ],
          [
           0.8181818181818182,
           "rgb(172, 43, 36)"
          ],
          [
           0.9090909090909091,
           "rgb(120, 14, 40)"
          ],
          [
           1,
           "rgb(60, 9, 17)"
          ]
         ]
        },
        "geo": {
         "center": {},
         "domain": {
          "x": [
           0,
           1
          ],
          "y": [
           0,
           1
          ]
         },
         "scope": "usa"
        },
        "height": 600,
        "legend": {
         "tracegroupgap": 0
        },
        "template": {
         "data": {
          "bar": [
           {
            "error_x": {
             "color": "#2a3f5f"
            },
            "error_y": {
             "color": "#2a3f5f"
            },
            "marker": {
             "line": {
              "color": "#E5ECF6",
              "width": 0.5
             },
             "pattern": {
              "fillmode": "overlay",
              "size": 10,
              "solidity": 0.2
             }
            },
            "type": "bar"
           }
          ],
          "barpolar": [
           {
            "marker": {
             "line": {
              "color": "#E5ECF6",
              "width": 0.5
             },
             "pattern": {
              "fillmode": "overlay",
              "size": 10,
              "solidity": 0.2
             }
            },
            "type": "barpolar"
           }
          ],
          "carpet": [
           {
            "aaxis": {
             "endlinecolor": "#2a3f5f",
             "gridcolor": "white",
             "linecolor": "white",
             "minorgridcolor": "white",
             "startlinecolor": "#2a3f5f"
            },
            "baxis": {
             "endlinecolor": "#2a3f5f",
             "gridcolor": "white",
             "linecolor": "white",
             "minorgridcolor": "white",
             "startlinecolor": "#2a3f5f"
            },
            "type": "carpet"
           }
          ],
          "choropleth": [
           {
            "colorbar": {
             "outlinewidth": 0,
             "ticks": ""
            },
            "type": "choropleth"
           }
          ],
          "contour": [
           {
            "colorbar": {
             "outlinewidth": 0,
             "ticks": ""
            },
            "colorscale": [
             [
              0,
              "#0d0887"
             ],
             [
              0.1111111111111111,
              "#46039f"
             ],
             [
              0.2222222222222222,
              "#7201a8"
             ],
             [
              0.3333333333333333,
              "#9c179e"
             ],
             [
              0.4444444444444444,
              "#bd3786"
             ],
             [
              0.5555555555555556,
              "#d8576b"
             ],
             [
              0.6666666666666666,
              "#ed7953"
             ],
             [
              0.7777777777777778,
              "#fb9f3a"
             ],
             [
              0.8888888888888888,
              "#fdca26"
             ],
             [
              1,
              "#f0f921"
             ]
            ],
            "type": "contour"
           }
          ],
          "contourcarpet": [
           {
            "colorbar": {
             "outlinewidth": 0,
             "ticks": ""
            },
            "type": "contourcarpet"
           }
          ],
          "heatmap": [
           {
            "colorbar": {
             "outlinewidth": 0,
             "ticks": ""
            },
            "colorscale": [
             [
              0,
              "#0d0887"
             ],
             [
              0.1111111111111111,
              "#46039f"
             ],
             [
              0.2222222222222222,
              "#7201a8"
             ],
             [
              0.3333333333333333,
              "#9c179e"
             ],
             [
              0.4444444444444444,
              "#bd3786"
             ],
             [
              0.5555555555555556,
              "#d8576b"
             ],
             [
              0.6666666666666666,
              "#ed7953"
             ],
             [
              0.7777777777777778,
              "#fb9f3a"
             ],
             [
              0.8888888888888888,
              "#fdca26"
             ],
             [
              1,
              "#f0f921"
             ]
            ],
            "type": "heatmap"
           }
          ],
          "heatmapgl": [
           {
            "colorbar": {
             "outlinewidth": 0,
             "ticks": ""
            },
            "colorscale": [
             [
              0,
              "#0d0887"
             ],
             [
              0.1111111111111111,
              "#46039f"
             ],
             [
              0.2222222222222222,
              "#7201a8"
             ],
             [
              0.3333333333333333,
              "#9c179e"
             ],
             [
              0.4444444444444444,
              "#bd3786"
             ],
             [
              0.5555555555555556,
              "#d8576b"
             ],
             [
              0.6666666666666666,
              "#ed7953"
             ],
             [
              0.7777777777777778,
              "#fb9f3a"
             ],
             [
              0.8888888888888888,
              "#fdca26"
             ],
             [
              1,
              "#f0f921"
             ]
            ],
            "type": "heatmapgl"
           }
          ],
          "histogram": [
           {
            "marker": {
             "pattern": {
              "fillmode": "overlay",
              "size": 10,
              "solidity": 0.2
             }
            },
            "type": "histogram"
           }
          ],
          "histogram2d": [
           {
            "colorbar": {
             "outlinewidth": 0,
             "ticks": ""
            },
            "colorscale": [
             [
              0,
              "#0d0887"
             ],
             [
              0.1111111111111111,
              "#46039f"
             ],
             [
              0.2222222222222222,
              "#7201a8"
             ],
             [
              0.3333333333333333,
              "#9c179e"
             ],
             [
              0.4444444444444444,
              "#bd3786"
             ],
             [
              0.5555555555555556,
              "#d8576b"
             ],
             [
              0.6666666666666666,
              "#ed7953"
             ],
             [
              0.7777777777777778,
              "#fb9f3a"
             ],
             [
              0.8888888888888888,
              "#fdca26"
             ],
             [
              1,
              "#f0f921"
             ]
            ],
            "type": "histogram2d"
           }
          ],
          "histogram2dcontour": [
           {
            "colorbar": {
             "outlinewidth": 0,
             "ticks": ""
            },
            "colorscale": [
             [
              0,
              "#0d0887"
             ],
             [
              0.1111111111111111,
              "#46039f"
             ],
             [
              0.2222222222222222,
              "#7201a8"
             ],
             [
              0.3333333333333333,
              "#9c179e"
             ],
             [
              0.4444444444444444,
              "#bd3786"
             ],
             [
              0.5555555555555556,
              "#d8576b"
             ],
             [
              0.6666666666666666,
              "#ed7953"
             ],
             [
              0.7777777777777778,
              "#fb9f3a"
             ],
             [
              0.8888888888888888,
              "#fdca26"
             ],
             [
              1,
              "#f0f921"
             ]
            ],
            "type": "histogram2dcontour"
           }
          ],
          "mesh3d": [
           {
            "colorbar": {
             "outlinewidth": 0,
             "ticks": ""
            },
            "type": "mesh3d"
           }
          ],
          "parcoords": [
           {
            "line": {
             "colorbar": {
              "outlinewidth": 0,
              "ticks": ""
             }
            },
            "type": "parcoords"
           }
          ],
          "pie": [
           {
            "automargin": true,
            "type": "pie"
           }
          ],
          "scatter": [
           {
            "fillpattern": {
             "fillmode": "overlay",
             "size": 10,
             "solidity": 0.2
            },
            "type": "scatter"
           }
          ],
          "scatter3d": [
           {
            "line": {
             "colorbar": {
              "outlinewidth": 0,
              "ticks": ""
             }
            },
            "marker": {
             "colorbar": {
              "outlinewidth": 0,
              "ticks": ""
             }
            },
            "type": "scatter3d"
           }
          ],
          "scattercarpet": [
           {
            "marker": {
             "colorbar": {
              "outlinewidth": 0,
              "ticks": ""
             }
            },
            "type": "scattercarpet"
           }
          ],
          "scattergeo": [
           {
            "marker": {
             "colorbar": {
              "outlinewidth": 0,
              "ticks": ""
             }
            },
            "type": "scattergeo"
           }
          ],
          "scattergl": [
           {
            "marker": {
             "colorbar": {
              "outlinewidth": 0,
              "ticks": ""
             }
            },
            "type": "scattergl"
           }
          ],
          "scattermapbox": [
           {
            "marker": {
             "colorbar": {
              "outlinewidth": 0,
              "ticks": ""
             }
            },
            "type": "scattermapbox"
           }
          ],
          "scatterpolar": [
           {
            "marker": {
             "colorbar": {
              "outlinewidth": 0,
              "ticks": ""
             }
            },
            "type": "scatterpolar"
           }
          ],
          "scatterpolargl": [
           {
            "marker": {
             "colorbar": {
              "outlinewidth": 0,
              "ticks": ""
             }
            },
            "type": "scatterpolargl"
           }
          ],
          "scatterternary": [
           {
            "marker": {
             "colorbar": {
              "outlinewidth": 0,
              "ticks": ""
             }
            },
            "type": "scatterternary"
           }
          ],
          "surface": [
           {
            "colorbar": {
             "outlinewidth": 0,
             "ticks": ""
            },
            "colorscale": [
             [
              0,
              "#0d0887"
             ],
             [
              0.1111111111111111,
              "#46039f"
             ],
             [
              0.2222222222222222,
              "#7201a8"
             ],
             [
              0.3333333333333333,
              "#9c179e"
             ],
             [
              0.4444444444444444,
              "#bd3786"
             ],
             [
              0.5555555555555556,
              "#d8576b"
             ],
             [
              0.6666666666666666,
              "#ed7953"
             ],
             [
              0.7777777777777778,
              "#fb9f3a"
             ],
             [
              0.8888888888888888,
              "#fdca26"
             ],
             [
              1,
              "#f0f921"
             ]
            ],
            "type": "surface"
           }
          ],
          "table": [
           {
            "cells": {
             "fill": {
              "color": "#EBF0F8"
             },
             "line": {
              "color": "white"
             }
            },
            "header": {
             "fill": {
              "color": "#C8D4E3"
             },
             "line": {
              "color": "white"
             }
            },
            "type": "table"
           }
          ]
         },
         "layout": {
          "annotationdefaults": {
           "arrowcolor": "#2a3f5f",
           "arrowhead": 0,
           "arrowwidth": 1
          },
          "autotypenumbers": "strict",
          "coloraxis": {
           "colorbar": {
            "outlinewidth": 0,
            "ticks": ""
           }
          },
          "colorscale": {
           "diverging": [
            [
             0,
             "#8e0152"
            ],
            [
             0.1,
             "#c51b7d"
            ],
            [
             0.2,
             "#de77ae"
            ],
            [
             0.3,
             "#f1b6da"
            ],
            [
             0.4,
             "#fde0ef"
            ],
            [
             0.5,
             "#f7f7f7"
            ],
            [
             0.6,
             "#e6f5d0"
            ],
            [
             0.7,
             "#b8e186"
            ],
            [
             0.8,
             "#7fbc41"
            ],
            [
             0.9,
             "#4d9221"
            ],
            [
             1,
             "#276419"
            ]
           ],
           "sequential": [
            [
             0,
             "#0d0887"
            ],
            [
             0.1111111111111111,
             "#46039f"
            ],
            [
             0.2222222222222222,
             "#7201a8"
            ],
            [
             0.3333333333333333,
             "#9c179e"
            ],
            [
             0.4444444444444444,
             "#bd3786"
            ],
            [
             0.5555555555555556,
             "#d8576b"
            ],
            [
             0.6666666666666666,
             "#ed7953"
            ],
            [
             0.7777777777777778,
             "#fb9f3a"
            ],
            [
             0.8888888888888888,
             "#fdca26"
            ],
            [
             1,
             "#f0f921"
            ]
           ],
           "sequentialminus": [
            [
             0,
             "#0d0887"
            ],
            [
             0.1111111111111111,
             "#46039f"
            ],
            [
             0.2222222222222222,
             "#7201a8"
            ],
            [
             0.3333333333333333,
             "#9c179e"
            ],
            [
             0.4444444444444444,
             "#bd3786"
            ],
            [
             0.5555555555555556,
             "#d8576b"
            ],
            [
             0.6666666666666666,
             "#ed7953"
            ],
            [
             0.7777777777777778,
             "#fb9f3a"
            ],
            [
             0.8888888888888888,
             "#fdca26"
            ],
            [
             1,
             "#f0f921"
            ]
           ]
          },
          "colorway": [
           "#636efa",
           "#EF553B",
           "#00cc96",
           "#ab63fa",
           "#FFA15A",
           "#19d3f3",
           "#FF6692",
           "#B6E880",
           "#FF97FF",
           "#FECB52"
          ],
          "font": {
           "color": "#2a3f5f"
          },
          "geo": {
           "bgcolor": "white",
           "lakecolor": "white",
           "landcolor": "#E5ECF6",
           "showlakes": true,
           "showland": true,
           "subunitcolor": "white"
          },
          "hoverlabel": {
           "align": "left"
          },
          "hovermode": "closest",
          "mapbox": {
           "style": "light"
          },
          "paper_bgcolor": "white",
          "plot_bgcolor": "#E5ECF6",
          "polar": {
           "angularaxis": {
            "gridcolor": "white",
            "linecolor": "white",
            "ticks": ""
           },
           "bgcolor": "#E5ECF6",
           "radialaxis": {
            "gridcolor": "white",
            "linecolor": "white",
            "ticks": ""
           }
          },
          "scene": {
           "xaxis": {
            "backgroundcolor": "#E5ECF6",
            "gridcolor": "white",
            "gridwidth": 2,
            "linecolor": "white",
            "showbackground": true,
            "ticks": "",
            "zerolinecolor": "white"
           },
           "yaxis": {
            "backgroundcolor": "#E5ECF6",
            "gridcolor": "white",
            "gridwidth": 2,
            "linecolor": "white",
            "showbackground": true,
            "ticks": "",
            "zerolinecolor": "white"
           },
           "zaxis": {
            "backgroundcolor": "#E5ECF6",
            "gridcolor": "white",
            "gridwidth": 2,
            "linecolor": "white",
            "showbackground": true,
            "ticks": "",
            "zerolinecolor": "white"
           }
          },
          "shapedefaults": {
           "line": {
            "color": "#2a3f5f"
           }
          },
          "ternary": {
           "aaxis": {
            "gridcolor": "white",
            "linecolor": "white",
            "ticks": ""
           },
           "baxis": {
            "gridcolor": "white",
            "linecolor": "white",
            "ticks": ""
           },
           "bgcolor": "#E5ECF6",
           "caxis": {
            "gridcolor": "white",
            "linecolor": "white",
            "ticks": ""
           }
          },
          "title": {
           "x": 0.05
          },
          "xaxis": {
           "automargin": true,
           "gridcolor": "white",
           "linecolor": "white",
           "ticks": "",
           "title": {
            "standoff": 15
           },
           "zerolinecolor": "white",
           "zerolinewidth": 2
          },
          "yaxis": {
           "automargin": true,
           "gridcolor": "white",
           "linecolor": "white",
           "ticks": "",
           "title": {
            "standoff": 15
           },
           "zerolinecolor": "white",
           "zerolinewidth": 2
          }
         }
        },
        "title": {
         "text": "2020 Heart-Related Deaths"
        },
        "width": 1200
       }
      }
     },
     "metadata": {},
     "output_type": "display_data"
    }
   ],
   "source": [
    "# 2020 state map\n",
    "fig = px.choropleth(svi_2020,\n",
    "                    locations='ST_ABBR',\n",
    "                    locationmode='USA-states',\n",
    "                    scope='usa',\n",
    "                    color='Deaths per 100,000 Population',\n",
    "                    color_continuous_scale='balance',\n",
    "                    title='2020 Heart-Related Deaths',\n",
    "                    width=1200,\n",
    "                    height=600\n",
    "                    )\n",
    "\n",
    "fig.write_image('./images/2020-deaths-graph.png')\n",
    "fig.show()"
   ]
  },
  {
   "cell_type": "code",
   "execution_count": 5,
   "metadata": {},
   "outputs": [
    {
     "data": {
      "application/vnd.plotly.v1+json": {
       "config": {
        "plotlyServerURL": "https://plot.ly"
       },
       "data": [
        {
         "coloraxis": "coloraxis",
         "geo": "geo",
         "hovertemplate": "ST_ABBR=%{location}<br>Change in Deaths per 100,000 Population=%{z}<extra></extra>",
         "locationmode": "USA-states",
         "locations": [
          "AK",
          "AL",
          "AR",
          "AZ",
          "CA",
          "CO",
          "CT",
          "DC",
          "DE",
          "FL",
          "GA",
          "HI",
          "IA",
          "ID",
          "IL",
          "IN",
          "KS",
          "KY",
          "LA",
          "MA",
          "MD",
          "ME",
          "MI",
          "MN",
          "MO",
          "MS",
          "MT",
          "NC",
          "ND",
          "NE",
          "NH",
          "NJ",
          "NM",
          "NV",
          "NY",
          "OH",
          "OK",
          "OR",
          "PA",
          "RI",
          "SC",
          "SD",
          "TN",
          "TX",
          "UT",
          "VA",
          "VT",
          "WA",
          "WI",
          "WV",
          "WY"
         ],
         "name": "",
         "type": "choropleth",
         "z": [
          15.24984632442748,
          42.563216872351575,
          28.99233533775788,
          33.2071620154818,
          16.184425803898137,
          8.150124207838275,
          3.7533051178318715,
          -16.60498748900949,
          14.877503896249038,
          2.4094922824738774,
          28.36190073580343,
          3.3103101376971438,
          23.210882720477713,
          15.084217644992464,
          21.4366908505649,
          16.126866295155367,
          25.82593364570377,
          25.81167189711809,
          31.318839047115176,
          -5.945925426713103,
          19.968227477241925,
          17.401212193422595,
          22.30101202699032,
          10.671724897498393,
          22.444375576295272,
          42.8502139540079,
          31.572091662995007,
          15.72175509409277,
          -6.5666922182954295,
          4.094726322434866,
          21.122269332733907,
          15.780938292011456,
          36.71287304351935,
          31.44352158970247,
          28.7211680362515,
          28.082040442835677,
          39.44348301689604,
          9.088384689299517,
          11.653125506295737,
          -3.0349954651916278,
          12.830316555959882,
          2.0671986764823487,
          28.982601051879243,
          16.728423442933092,
          14.873900553344825,
          14.80998999636256,
          33.66026714584504,
          5.575906215468876,
          21.497491540063663,
          30.35107797829758,
          22.94972669712928
         ]
        }
       ],
       "layout": {
        "coloraxis": {
         "colorbar": {
          "title": {
           "text": "Change in Deaths per 100,000 Population"
          }
         },
         "colorscale": [
          [
           0,
           "rgb(23, 28, 66)"
          ],
          [
           0.09090909090909091,
           "rgb(41, 58, 143)"
          ],
          [
           0.18181818181818182,
           "rgb(11, 102, 189)"
          ],
          [
           0.2727272727272727,
           "rgb(69, 144, 185)"
          ],
          [
           0.36363636363636365,
           "rgb(142, 181, 194)"
          ],
          [
           0.45454545454545453,
           "rgb(210, 216, 219)"
          ],
          [
           0.5454545454545454,
           "rgb(230, 210, 204)"
          ],
          [
           0.6363636363636364,
           "rgb(213, 157, 137)"
          ],
          [
           0.7272727272727273,
           "rgb(196, 101, 72)"
          ],
          [
           0.8181818181818182,
           "rgb(172, 43, 36)"
          ],
          [
           0.9090909090909091,
           "rgb(120, 14, 40)"
          ],
          [
           1,
           "rgb(60, 9, 17)"
          ]
         ]
        },
        "geo": {
         "center": {},
         "domain": {
          "x": [
           0,
           1
          ],
          "y": [
           0,
           1
          ]
         },
         "scope": "usa"
        },
        "height": 600,
        "legend": {
         "tracegroupgap": 0
        },
        "template": {
         "data": {
          "bar": [
           {
            "error_x": {
             "color": "#2a3f5f"
            },
            "error_y": {
             "color": "#2a3f5f"
            },
            "marker": {
             "line": {
              "color": "#E5ECF6",
              "width": 0.5
             },
             "pattern": {
              "fillmode": "overlay",
              "size": 10,
              "solidity": 0.2
             }
            },
            "type": "bar"
           }
          ],
          "barpolar": [
           {
            "marker": {
             "line": {
              "color": "#E5ECF6",
              "width": 0.5
             },
             "pattern": {
              "fillmode": "overlay",
              "size": 10,
              "solidity": 0.2
             }
            },
            "type": "barpolar"
           }
          ],
          "carpet": [
           {
            "aaxis": {
             "endlinecolor": "#2a3f5f",
             "gridcolor": "white",
             "linecolor": "white",
             "minorgridcolor": "white",
             "startlinecolor": "#2a3f5f"
            },
            "baxis": {
             "endlinecolor": "#2a3f5f",
             "gridcolor": "white",
             "linecolor": "white",
             "minorgridcolor": "white",
             "startlinecolor": "#2a3f5f"
            },
            "type": "carpet"
           }
          ],
          "choropleth": [
           {
            "colorbar": {
             "outlinewidth": 0,
             "ticks": ""
            },
            "type": "choropleth"
           }
          ],
          "contour": [
           {
            "colorbar": {
             "outlinewidth": 0,
             "ticks": ""
            },
            "colorscale": [
             [
              0,
              "#0d0887"
             ],
             [
              0.1111111111111111,
              "#46039f"
             ],
             [
              0.2222222222222222,
              "#7201a8"
             ],
             [
              0.3333333333333333,
              "#9c179e"
             ],
             [
              0.4444444444444444,
              "#bd3786"
             ],
             [
              0.5555555555555556,
              "#d8576b"
             ],
             [
              0.6666666666666666,
              "#ed7953"
             ],
             [
              0.7777777777777778,
              "#fb9f3a"
             ],
             [
              0.8888888888888888,
              "#fdca26"
             ],
             [
              1,
              "#f0f921"
             ]
            ],
            "type": "contour"
           }
          ],
          "contourcarpet": [
           {
            "colorbar": {
             "outlinewidth": 0,
             "ticks": ""
            },
            "type": "contourcarpet"
           }
          ],
          "heatmap": [
           {
            "colorbar": {
             "outlinewidth": 0,
             "ticks": ""
            },
            "colorscale": [
             [
              0,
              "#0d0887"
             ],
             [
              0.1111111111111111,
              "#46039f"
             ],
             [
              0.2222222222222222,
              "#7201a8"
             ],
             [
              0.3333333333333333,
              "#9c179e"
             ],
             [
              0.4444444444444444,
              "#bd3786"
             ],
             [
              0.5555555555555556,
              "#d8576b"
             ],
             [
              0.6666666666666666,
              "#ed7953"
             ],
             [
              0.7777777777777778,
              "#fb9f3a"
             ],
             [
              0.8888888888888888,
              "#fdca26"
             ],
             [
              1,
              "#f0f921"
             ]
            ],
            "type": "heatmap"
           }
          ],
          "heatmapgl": [
           {
            "colorbar": {
             "outlinewidth": 0,
             "ticks": ""
            },
            "colorscale": [
             [
              0,
              "#0d0887"
             ],
             [
              0.1111111111111111,
              "#46039f"
             ],
             [
              0.2222222222222222,
              "#7201a8"
             ],
             [
              0.3333333333333333,
              "#9c179e"
             ],
             [
              0.4444444444444444,
              "#bd3786"
             ],
             [
              0.5555555555555556,
              "#d8576b"
             ],
             [
              0.6666666666666666,
              "#ed7953"
             ],
             [
              0.7777777777777778,
              "#fb9f3a"
             ],
             [
              0.8888888888888888,
              "#fdca26"
             ],
             [
              1,
              "#f0f921"
             ]
            ],
            "type": "heatmapgl"
           }
          ],
          "histogram": [
           {
            "marker": {
             "pattern": {
              "fillmode": "overlay",
              "size": 10,
              "solidity": 0.2
             }
            },
            "type": "histogram"
           }
          ],
          "histogram2d": [
           {
            "colorbar": {
             "outlinewidth": 0,
             "ticks": ""
            },
            "colorscale": [
             [
              0,
              "#0d0887"
             ],
             [
              0.1111111111111111,
              "#46039f"
             ],
             [
              0.2222222222222222,
              "#7201a8"
             ],
             [
              0.3333333333333333,
              "#9c179e"
             ],
             [
              0.4444444444444444,
              "#bd3786"
             ],
             [
              0.5555555555555556,
              "#d8576b"
             ],
             [
              0.6666666666666666,
              "#ed7953"
             ],
             [
              0.7777777777777778,
              "#fb9f3a"
             ],
             [
              0.8888888888888888,
              "#fdca26"
             ],
             [
              1,
              "#f0f921"
             ]
            ],
            "type": "histogram2d"
           }
          ],
          "histogram2dcontour": [
           {
            "colorbar": {
             "outlinewidth": 0,
             "ticks": ""
            },
            "colorscale": [
             [
              0,
              "#0d0887"
             ],
             [
              0.1111111111111111,
              "#46039f"
             ],
             [
              0.2222222222222222,
              "#7201a8"
             ],
             [
              0.3333333333333333,
              "#9c179e"
             ],
             [
              0.4444444444444444,
              "#bd3786"
             ],
             [
              0.5555555555555556,
              "#d8576b"
             ],
             [
              0.6666666666666666,
              "#ed7953"
             ],
             [
              0.7777777777777778,
              "#fb9f3a"
             ],
             [
              0.8888888888888888,
              "#fdca26"
             ],
             [
              1,
              "#f0f921"
             ]
            ],
            "type": "histogram2dcontour"
           }
          ],
          "mesh3d": [
           {
            "colorbar": {
             "outlinewidth": 0,
             "ticks": ""
            },
            "type": "mesh3d"
           }
          ],
          "parcoords": [
           {
            "line": {
             "colorbar": {
              "outlinewidth": 0,
              "ticks": ""
             }
            },
            "type": "parcoords"
           }
          ],
          "pie": [
           {
            "automargin": true,
            "type": "pie"
           }
          ],
          "scatter": [
           {
            "fillpattern": {
             "fillmode": "overlay",
             "size": 10,
             "solidity": 0.2
            },
            "type": "scatter"
           }
          ],
          "scatter3d": [
           {
            "line": {
             "colorbar": {
              "outlinewidth": 0,
              "ticks": ""
             }
            },
            "marker": {
             "colorbar": {
              "outlinewidth": 0,
              "ticks": ""
             }
            },
            "type": "scatter3d"
           }
          ],
          "scattercarpet": [
           {
            "marker": {
             "colorbar": {
              "outlinewidth": 0,
              "ticks": ""
             }
            },
            "type": "scattercarpet"
           }
          ],
          "scattergeo": [
           {
            "marker": {
             "colorbar": {
              "outlinewidth": 0,
              "ticks": ""
             }
            },
            "type": "scattergeo"
           }
          ],
          "scattergl": [
           {
            "marker": {
             "colorbar": {
              "outlinewidth": 0,
              "ticks": ""
             }
            },
            "type": "scattergl"
           }
          ],
          "scattermapbox": [
           {
            "marker": {
             "colorbar": {
              "outlinewidth": 0,
              "ticks": ""
             }
            },
            "type": "scattermapbox"
           }
          ],
          "scatterpolar": [
           {
            "marker": {
             "colorbar": {
              "outlinewidth": 0,
              "ticks": ""
             }
            },
            "type": "scatterpolar"
           }
          ],
          "scatterpolargl": [
           {
            "marker": {
             "colorbar": {
              "outlinewidth": 0,
              "ticks": ""
             }
            },
            "type": "scatterpolargl"
           }
          ],
          "scatterternary": [
           {
            "marker": {
             "colorbar": {
              "outlinewidth": 0,
              "ticks": ""
             }
            },
            "type": "scatterternary"
           }
          ],
          "surface": [
           {
            "colorbar": {
             "outlinewidth": 0,
             "ticks": ""
            },
            "colorscale": [
             [
              0,
              "#0d0887"
             ],
             [
              0.1111111111111111,
              "#46039f"
             ],
             [
              0.2222222222222222,
              "#7201a8"
             ],
             [
              0.3333333333333333,
              "#9c179e"
             ],
             [
              0.4444444444444444,
              "#bd3786"
             ],
             [
              0.5555555555555556,
              "#d8576b"
             ],
             [
              0.6666666666666666,
              "#ed7953"
             ],
             [
              0.7777777777777778,
              "#fb9f3a"
             ],
             [
              0.8888888888888888,
              "#fdca26"
             ],
             [
              1,
              "#f0f921"
             ]
            ],
            "type": "surface"
           }
          ],
          "table": [
           {
            "cells": {
             "fill": {
              "color": "#EBF0F8"
             },
             "line": {
              "color": "white"
             }
            },
            "header": {
             "fill": {
              "color": "#C8D4E3"
             },
             "line": {
              "color": "white"
             }
            },
            "type": "table"
           }
          ]
         },
         "layout": {
          "annotationdefaults": {
           "arrowcolor": "#2a3f5f",
           "arrowhead": 0,
           "arrowwidth": 1
          },
          "autotypenumbers": "strict",
          "coloraxis": {
           "colorbar": {
            "outlinewidth": 0,
            "ticks": ""
           }
          },
          "colorscale": {
           "diverging": [
            [
             0,
             "#8e0152"
            ],
            [
             0.1,
             "#c51b7d"
            ],
            [
             0.2,
             "#de77ae"
            ],
            [
             0.3,
             "#f1b6da"
            ],
            [
             0.4,
             "#fde0ef"
            ],
            [
             0.5,
             "#f7f7f7"
            ],
            [
             0.6,
             "#e6f5d0"
            ],
            [
             0.7,
             "#b8e186"
            ],
            [
             0.8,
             "#7fbc41"
            ],
            [
             0.9,
             "#4d9221"
            ],
            [
             1,
             "#276419"
            ]
           ],
           "sequential": [
            [
             0,
             "#0d0887"
            ],
            [
             0.1111111111111111,
             "#46039f"
            ],
            [
             0.2222222222222222,
             "#7201a8"
            ],
            [
             0.3333333333333333,
             "#9c179e"
            ],
            [
             0.4444444444444444,
             "#bd3786"
            ],
            [
             0.5555555555555556,
             "#d8576b"
            ],
            [
             0.6666666666666666,
             "#ed7953"
            ],
            [
             0.7777777777777778,
             "#fb9f3a"
            ],
            [
             0.8888888888888888,
             "#fdca26"
            ],
            [
             1,
             "#f0f921"
            ]
           ],
           "sequentialminus": [
            [
             0,
             "#0d0887"
            ],
            [
             0.1111111111111111,
             "#46039f"
            ],
            [
             0.2222222222222222,
             "#7201a8"
            ],
            [
             0.3333333333333333,
             "#9c179e"
            ],
            [
             0.4444444444444444,
             "#bd3786"
            ],
            [
             0.5555555555555556,
             "#d8576b"
            ],
            [
             0.6666666666666666,
             "#ed7953"
            ],
            [
             0.7777777777777778,
             "#fb9f3a"
            ],
            [
             0.8888888888888888,
             "#fdca26"
            ],
            [
             1,
             "#f0f921"
            ]
           ]
          },
          "colorway": [
           "#636efa",
           "#EF553B",
           "#00cc96",
           "#ab63fa",
           "#FFA15A",
           "#19d3f3",
           "#FF6692",
           "#B6E880",
           "#FF97FF",
           "#FECB52"
          ],
          "font": {
           "color": "#2a3f5f"
          },
          "geo": {
           "bgcolor": "white",
           "lakecolor": "white",
           "landcolor": "#E5ECF6",
           "showlakes": true,
           "showland": true,
           "subunitcolor": "white"
          },
          "hoverlabel": {
           "align": "left"
          },
          "hovermode": "closest",
          "mapbox": {
           "style": "light"
          },
          "paper_bgcolor": "white",
          "plot_bgcolor": "#E5ECF6",
          "polar": {
           "angularaxis": {
            "gridcolor": "white",
            "linecolor": "white",
            "ticks": ""
           },
           "bgcolor": "#E5ECF6",
           "radialaxis": {
            "gridcolor": "white",
            "linecolor": "white",
            "ticks": ""
           }
          },
          "scene": {
           "xaxis": {
            "backgroundcolor": "#E5ECF6",
            "gridcolor": "white",
            "gridwidth": 2,
            "linecolor": "white",
            "showbackground": true,
            "ticks": "",
            "zerolinecolor": "white"
           },
           "yaxis": {
            "backgroundcolor": "#E5ECF6",
            "gridcolor": "white",
            "gridwidth": 2,
            "linecolor": "white",
            "showbackground": true,
            "ticks": "",
            "zerolinecolor": "white"
           },
           "zaxis": {
            "backgroundcolor": "#E5ECF6",
            "gridcolor": "white",
            "gridwidth": 2,
            "linecolor": "white",
            "showbackground": true,
            "ticks": "",
            "zerolinecolor": "white"
           }
          },
          "shapedefaults": {
           "line": {
            "color": "#2a3f5f"
           }
          },
          "ternary": {
           "aaxis": {
            "gridcolor": "white",
            "linecolor": "white",
            "ticks": ""
           },
           "baxis": {
            "gridcolor": "white",
            "linecolor": "white",
            "ticks": ""
           },
           "bgcolor": "#E5ECF6",
           "caxis": {
            "gridcolor": "white",
            "linecolor": "white",
            "ticks": ""
           }
          },
          "title": {
           "x": 0.05
          },
          "xaxis": {
           "automargin": true,
           "gridcolor": "white",
           "linecolor": "white",
           "ticks": "",
           "title": {
            "standoff": 15
           },
           "zerolinecolor": "white",
           "zerolinewidth": 2
          },
          "yaxis": {
           "automargin": true,
           "gridcolor": "white",
           "linecolor": "white",
           "ticks": "",
           "title": {
            "standoff": 15
           },
           "zerolinecolor": "white",
           "zerolinewidth": 2
          }
         }
        },
        "title": {
         "text": "Change in Total Heart-Related Deaths Between 2014 and 2020"
        },
        "width": 1200
       }
      }
     },
     "metadata": {},
     "output_type": "display_data"
    }
   ],
   "source": [
    "# change in deaths map\n",
    "fig = px.choropleth(change_2014_2020,\n",
    "                    locations='ST_ABBR',\n",
    "                    locationmode='USA-states',\n",
    "                    scope='usa',\n",
    "                    color='Change in Deaths per 100,000 Population',\n",
    "                    color_continuous_scale='balance',\n",
    "                    title='Change in Total Heart-Related Deaths Between 2014 and 2020',\n",
    "                    width=1200,\n",
    "                    height=600\n",
    "                    )\n",
    "\n",
    "fig.write_image('./images/2014-2020-change-graph.png')\n",
    "fig.show()"
   ]
  },
  {
   "cell_type": "code",
   "execution_count": 6,
   "metadata": {},
   "outputs": [
    {
     "data": {
      "text/html": [
       "<div>\n",
       "<style scoped>\n",
       "    .dataframe tbody tr th:only-of-type {\n",
       "        vertical-align: middle;\n",
       "    }\n",
       "\n",
       "    .dataframe tbody tr th {\n",
       "        vertical-align: top;\n",
       "    }\n",
       "\n",
       "    .dataframe thead th {\n",
       "        text-align: right;\n",
       "    }\n",
       "</style>\n",
       "<table border=\"1\" class=\"dataframe\">\n",
       "  <thead>\n",
       "    <tr style=\"text-align: right;\">\n",
       "      <th></th>\n",
       "      <th>ST_ABBR</th>\n",
       "      <th>Change in Deaths per 100,000 Population</th>\n",
       "    </tr>\n",
       "  </thead>\n",
       "  <tbody>\n",
       "    <tr>\n",
       "      <th>7</th>\n",
       "      <td>DC</td>\n",
       "      <td>-16.604987</td>\n",
       "    </tr>\n",
       "    <tr>\n",
       "      <th>28</th>\n",
       "      <td>ND</td>\n",
       "      <td>-6.566692</td>\n",
       "    </tr>\n",
       "    <tr>\n",
       "      <th>19</th>\n",
       "      <td>MA</td>\n",
       "      <td>-5.945925</td>\n",
       "    </tr>\n",
       "    <tr>\n",
       "      <th>39</th>\n",
       "      <td>RI</td>\n",
       "      <td>-3.034995</td>\n",
       "    </tr>\n",
       "    <tr>\n",
       "      <th>41</th>\n",
       "      <td>SD</td>\n",
       "      <td>2.067199</td>\n",
       "    </tr>\n",
       "  </tbody>\n",
       "</table>\n",
       "</div>"
      ],
      "text/plain": [
       "   ST_ABBR  Change in Deaths per 100,000 Population\n",
       "7       DC                               -16.604987\n",
       "28      ND                                -6.566692\n",
       "19      MA                                -5.945925\n",
       "39      RI                                -3.034995\n",
       "41      SD                                 2.067199"
      ]
     },
     "execution_count": 6,
     "metadata": {},
     "output_type": "execute_result"
    }
   ],
   "source": [
    "change_2014_2020.sort_values('Change in Deaths per 100,000 Population').head()"
   ]
  },
  {
   "cell_type": "code",
   "execution_count": 7,
   "metadata": {},
   "outputs": [],
   "source": [
    "bottom_five_states = change_2014_2020.sort_values('Change in Deaths per 100,000 Population').head()     # get states with most decrease heart-related deaths\n",
    "top_five_states = change_2014_2020.sort_values('Change in Deaths per 100,000 Population').tail()        # get states with most increase in heart-related deaths\n",
    "\n",
    "# combine bottom and top 5 back into one dataframe\n",
    "top_bottom_five = pd.concat([bottom_five_states, top_five_states])\n",
    "top_bottom_five.sort_values('Change in Deaths per 100,000 Population')\n",
    "top_bottom_five = top_bottom_five.iloc[::-1]\n",
    "top_bottom_five['State'] = top_bottom_five['ST_ABBR'].replace(states)\n",
    "top_bottom_five.drop('ST_ABBR', axis=1, inplace=True)\n",
    "top_bottom_five.set_index('State', inplace=True)\n"
   ]
  },
  {
   "cell_type": "code",
   "execution_count": 8,
   "metadata": {},
   "outputs": [
    {
     "data": {
      "text/html": [
       "<div>\n",
       "<style scoped>\n",
       "    .dataframe tbody tr th:only-of-type {\n",
       "        vertical-align: middle;\n",
       "    }\n",
       "\n",
       "    .dataframe tbody tr th {\n",
       "        vertical-align: top;\n",
       "    }\n",
       "\n",
       "    .dataframe thead th {\n",
       "        text-align: right;\n",
       "    }\n",
       "</style>\n",
       "<table border=\"1\" class=\"dataframe\">\n",
       "  <thead>\n",
       "    <tr style=\"text-align: right;\">\n",
       "      <th></th>\n",
       "      <th>Change in Deaths per 100,000 Population</th>\n",
       "    </tr>\n",
       "    <tr>\n",
       "      <th>State</th>\n",
       "      <th></th>\n",
       "    </tr>\n",
       "  </thead>\n",
       "  <tbody>\n",
       "    <tr>\n",
       "      <th>Mississippi</th>\n",
       "      <td>42.850214</td>\n",
       "    </tr>\n",
       "    <tr>\n",
       "      <th>Alabama</th>\n",
       "      <td>42.563217</td>\n",
       "    </tr>\n",
       "    <tr>\n",
       "      <th>Oklahoma</th>\n",
       "      <td>39.443483</td>\n",
       "    </tr>\n",
       "    <tr>\n",
       "      <th>New Mexico</th>\n",
       "      <td>36.712873</td>\n",
       "    </tr>\n",
       "    <tr>\n",
       "      <th>Vermont</th>\n",
       "      <td>33.660267</td>\n",
       "    </tr>\n",
       "    <tr>\n",
       "      <th>South Dakota</th>\n",
       "      <td>2.067199</td>\n",
       "    </tr>\n",
       "    <tr>\n",
       "      <th>Rhode Island</th>\n",
       "      <td>-3.034995</td>\n",
       "    </tr>\n",
       "    <tr>\n",
       "      <th>Massachusetts</th>\n",
       "      <td>-5.945925</td>\n",
       "    </tr>\n",
       "    <tr>\n",
       "      <th>North Dakota</th>\n",
       "      <td>-6.566692</td>\n",
       "    </tr>\n",
       "    <tr>\n",
       "      <th>District of Columbia</th>\n",
       "      <td>-16.604987</td>\n",
       "    </tr>\n",
       "  </tbody>\n",
       "</table>\n",
       "</div>"
      ],
      "text/plain": [
       "                      Change in Deaths per 100,000 Population\n",
       "State                                                        \n",
       "Mississippi                                         42.850214\n",
       "Alabama                                             42.563217\n",
       "Oklahoma                                            39.443483\n",
       "New Mexico                                          36.712873\n",
       "Vermont                                             33.660267\n",
       "South Dakota                                         2.067199\n",
       "Rhode Island                                        -3.034995\n",
       "Massachusetts                                       -5.945925\n",
       "North Dakota                                        -6.566692\n",
       "District of Columbia                               -16.604987"
      ]
     },
     "execution_count": 8,
     "metadata": {},
     "output_type": "execute_result"
    }
   ],
   "source": [
    "top_bottom_five"
   ]
  },
  {
   "cell_type": "code",
   "execution_count": 9,
   "metadata": {},
   "outputs": [
    {
     "data": {
      "image/png": "[encoded data removed]",
      "text/plain": [
       "<Figure size 1440x720 with 1 Axes>"
      ]
     },
     "metadata": {
      "needs_background": "light"
     },
     "output_type": "display_data"
    }
   ],
   "source": [
    "# used to create custom legend\n",
    "from matplotlib.lines import Line2D\n",
    "cmap = plt.cm.coolwarm\n",
    "custom_lines = [Line2D([0], [0], color='r', lw=4),\n",
    "                Line2D([0], [0], color='g', lw=4)]\n",
    "\n",
    "# logic to change color of columns\n",
    "def bar_color(df,color1,color2):\n",
    "    return np.where(df.values>20,color1,color2).T\n",
    "\n",
    "# creating plt\n",
    "ax = top_bottom_five['Change in Deaths per 100,000 Population'].plot(kind='bar', figsize=(20, 10), color=bar_color(top_bottom_five['Change in Deaths per 100,000 Population'], 'r', 'g'))\n",
    "\n",
    "# labelling\n",
    "plt.title('Top and Bottom Five States by Change in Heart-Related Deaths\\n From 2014 to 2020', fontsize=26)\n",
    "plt.xlabel('', fontsize=20)\n",
    "plt.ylabel('Death Rate Per 100,000 Population', fontsize=20)\n",
    "\n",
    "# customizing\n",
    "plt.axhline(y=0, color='black')\n",
    "plt.legend(custom_lines, ['Top 5 States With Increasing Heart-Related Deaths', 'Top 5 States By Least or Decreasing Heart-Related Deaths'], fontsize=12)\n",
    "plt.bar_label(ax.containers[0], fontsize=14)\n",
    "plt.xticks(rotation=45, fontsize=14)\n",
    "plt.yticks(fontsize=14)\n",
    "\n",
    "plt.gcf().subplots_adjust(bottom=0.2)   # this line adjusts the padding around the image when saving to prevent cut-off\n",
    "plt.savefig('./images/top-bottom-five-states.png')\n",
    "plt.show()"
   ]
  },
  {
   "cell_type": "code",
   "execution_count": null,
   "metadata": {},
   "outputs": [],
   "source": [
    "# high school degree per 100k"
   ]
  },
  {
   "attachments": {},
   "cell_type": "markdown",
   "metadata": {},
   "source": [
    "# County Stats"
   ]
  },
  {
   "cell_type": "code",
   "execution_count": 6,
   "metadata": {},
   "outputs": [
    {
     "data": {
      "text/html": [
       "<div>\n",
       "<style scoped>\n",
       "    .dataframe tbody tr th:only-of-type {\n",
       "        vertical-align: middle;\n",
       "    }\n",
       "\n",
       "    .dataframe tbody tr th {\n",
       "        vertical-align: top;\n",
       "    }\n",
       "\n",
       "    .dataframe thead th {\n",
       "        text-align: right;\n",
       "    }\n",
       "</style>\n",
       "<table border=\"1\" class=\"dataframe\">\n",
       "  <thead>\n",
       "    <tr style=\"text-align: right;\">\n",
       "      <th></th>\n",
       "      <th>E_TOTPOP</th>\n",
       "      <th>E_HU</th>\n",
       "      <th>E_HH</th>\n",
       "      <th>E_POV</th>\n",
       "      <th>E_UNEMP</th>\n",
       "      <th>E_NOHSDP</th>\n",
       "      <th>E_AGE65</th>\n",
       "      <th>E_AGE17</th>\n",
       "      <th>E_DISABL</th>\n",
       "      <th>E_SNGPNT</th>\n",
       "      <th>...</th>\n",
       "      <th>C-E_LIMENG</th>\n",
       "      <th>C-E_MUNIT</th>\n",
       "      <th>C-E_MOBILE</th>\n",
       "      <th>C-E_CROWD</th>\n",
       "      <th>C-E_NOVEH</th>\n",
       "      <th>C-E_GROUPQ</th>\n",
       "      <th>C-E_UNINSUR</th>\n",
       "      <th>C-E_DAYPOP</th>\n",
       "      <th>C-Deaths</th>\n",
       "      <th>C-Deaths per 100,000 Population</th>\n",
       "    </tr>\n",
       "  </thead>\n",
       "  <tbody>\n",
       "    <tr>\n",
       "      <th>10001_2016</th>\n",
       "      <td>171474.0</td>\n",
       "      <td>68106.0</td>\n",
       "      <td>62140.0</td>\n",
       "      <td>21866.0</td>\n",
       "      <td>6596.0</td>\n",
       "      <td>14727.0</td>\n",
       "      <td>26575.0</td>\n",
       "      <td>40490.0</td>\n",
       "      <td>23460.0</td>\n",
       "      <td>6883.0</td>\n",
       "      <td>...</td>\n",
       "      <td>89.0</td>\n",
       "      <td>219.0</td>\n",
       "      <td>-73.0</td>\n",
       "      <td>348.0</td>\n",
       "      <td>102.0</td>\n",
       "      <td>53.0</td>\n",
       "      <td>-393.0</td>\n",
       "      <td>16409.0</td>\n",
       "      <td>45.0</td>\n",
       "      <td>21.469129</td>\n",
       "    </tr>\n",
       "    <tr>\n",
       "      <th>10001_2018</th>\n",
       "      <td>174822.0</td>\n",
       "      <td>70576.0</td>\n",
       "      <td>64545.0</td>\n",
       "      <td>22968.0</td>\n",
       "      <td>4961.0</td>\n",
       "      <td>14930.0</td>\n",
       "      <td>28461.0</td>\n",
       "      <td>40611.0</td>\n",
       "      <td>24906.0</td>\n",
       "      <td>7005.0</td>\n",
       "      <td>...</td>\n",
       "      <td>369.0</td>\n",
       "      <td>209.0</td>\n",
       "      <td>76.0</td>\n",
       "      <td>55.0</td>\n",
       "      <td>238.0</td>\n",
       "      <td>66.0</td>\n",
       "      <td>-1090.0</td>\n",
       "      <td>-13024.0</td>\n",
       "      <td>4.0</td>\n",
       "      <td>-2.045299</td>\n",
       "    </tr>\n",
       "    <tr>\n",
       "      <th>10001_2020</th>\n",
       "      <td>179124.0</td>\n",
       "      <td>73073.0</td>\n",
       "      <td>67299.0</td>\n",
       "      <td>37909.0</td>\n",
       "      <td>5238.0</td>\n",
       "      <td>14448.0</td>\n",
       "      <td>30665.0</td>\n",
       "      <td>41125.0</td>\n",
       "      <td>28206.0</td>\n",
       "      <td>6186.0</td>\n",
       "      <td>...</td>\n",
       "      <td>704.0</td>\n",
       "      <td>429.0</td>\n",
       "      <td>99.0</td>\n",
       "      <td>-117.0</td>\n",
       "      <td>299.0</td>\n",
       "      <td>-309.0</td>\n",
       "      <td>848.0</td>\n",
       "      <td>20054.0</td>\n",
       "      <td>33.0</td>\n",
       "      <td>13.037733</td>\n",
       "    </tr>\n",
       "    <tr>\n",
       "      <th>10003_2016</th>\n",
       "      <td>551997.0</td>\n",
       "      <td>220459.0</td>\n",
       "      <td>202524.0</td>\n",
       "      <td>60817.0</td>\n",
       "      <td>20043.0</td>\n",
       "      <td>35611.0</td>\n",
       "      <td>76111.0</td>\n",
       "      <td>122399.0</td>\n",
       "      <td>60175.0</td>\n",
       "      <td>19432.0</td>\n",
       "      <td>...</td>\n",
       "      <td>-740.0</td>\n",
       "      <td>553.0</td>\n",
       "      <td>134.0</td>\n",
       "      <td>-337.0</td>\n",
       "      <td>46.0</td>\n",
       "      <td>166.0</td>\n",
       "      <td>-8639.0</td>\n",
       "      <td>-16359.0</td>\n",
       "      <td>34.0</td>\n",
       "      <td>4.218034</td>\n",
       "    </tr>\n",
       "    <tr>\n",
       "      <th>10003_2018</th>\n",
       "      <td>555133.0</td>\n",
       "      <td>222146.0</td>\n",
       "      <td>203855.0</td>\n",
       "      <td>61530.0</td>\n",
       "      <td>18464.0</td>\n",
       "      <td>32485.0</td>\n",
       "      <td>81440.0</td>\n",
       "      <td>121184.0</td>\n",
       "      <td>59939.0</td>\n",
       "      <td>17973.0</td>\n",
       "      <td>...</td>\n",
       "      <td>-1241.0</td>\n",
       "      <td>1141.0</td>\n",
       "      <td>-703.0</td>\n",
       "      <td>-213.0</td>\n",
       "      <td>-613.0</td>\n",
       "      <td>-166.0</td>\n",
       "      <td>-8495.0</td>\n",
       "      <td>-55911.0</td>\n",
       "      <td>3.0</td>\n",
       "      <td>-0.467631</td>\n",
       "    </tr>\n",
       "  </tbody>\n",
       "</table>\n",
       "<p>5 rows × 42 columns</p>\n",
       "</div>"
      ],
      "text/plain": [
       "            E_TOTPOP      E_HU      E_HH    E_POV  E_UNEMP  E_NOHSDP  E_AGE65  \\\n",
       "10001_2016  171474.0   68106.0   62140.0  21866.0   6596.0   14727.0  26575.0   \n",
       "10001_2018  174822.0   70576.0   64545.0  22968.0   4961.0   14930.0  28461.0   \n",
       "10001_2020  179124.0   73073.0   67299.0  37909.0   5238.0   14448.0  30665.0   \n",
       "10003_2016  551997.0  220459.0  202524.0  60817.0  20043.0   35611.0  76111.0   \n",
       "10003_2018  555133.0  222146.0  203855.0  61530.0  18464.0   32485.0  81440.0   \n",
       "\n",
       "             E_AGE17  E_DISABL  E_SNGPNT  ...  C-E_LIMENG  C-E_MUNIT  \\\n",
       "10001_2016   40490.0   23460.0    6883.0  ...        89.0      219.0   \n",
       "10001_2018   40611.0   24906.0    7005.0  ...       369.0      209.0   \n",
       "10001_2020   41125.0   28206.0    6186.0  ...       704.0      429.0   \n",
       "10003_2016  122399.0   60175.0   19432.0  ...      -740.0      553.0   \n",
       "10003_2018  121184.0   59939.0   17973.0  ...     -1241.0     1141.0   \n",
       "\n",
       "            C-E_MOBILE  C-E_CROWD  C-E_NOVEH  C-E_GROUPQ  C-E_UNINSUR  \\\n",
       "10001_2016       -73.0      348.0      102.0        53.0       -393.0   \n",
       "10001_2018        76.0       55.0      238.0        66.0      -1090.0   \n",
       "10001_2020        99.0     -117.0      299.0      -309.0        848.0   \n",
       "10003_2016       134.0     -337.0       46.0       166.0      -8639.0   \n",
       "10003_2018      -703.0     -213.0     -613.0      -166.0      -8495.0   \n",
       "\n",
       "            C-E_DAYPOP  C-Deaths  C-Deaths per 100,000 Population  \n",
       "10001_2016     16409.0      45.0                        21.469129  \n",
       "10001_2018    -13024.0       4.0                        -2.045299  \n",
       "10001_2020     20054.0      33.0                        13.037733  \n",
       "10003_2016    -16359.0      34.0                         4.218034  \n",
       "10003_2018    -55911.0       3.0                        -0.467631  \n",
       "\n",
       "[5 rows x 42 columns]"
      ]
     },
     "execution_count": 6,
     "metadata": {},
     "output_type": "execute_result"
    }
   ],
   "source": [
    "totals_df = pd.read_csv('./data/machine-learning.csv', index_col=0)\n",
    "totals_df.head()"
   ]
  },
  {
   "cell_type": "code",
   "execution_count": 10,
   "metadata": {},
   "outputs": [
    {
     "data": {
      "text/html": [
       "<div>\n",
       "<style scoped>\n",
       "    .dataframe tbody tr th:only-of-type {\n",
       "        vertical-align: middle;\n",
       "    }\n",
       "\n",
       "    .dataframe tbody tr th {\n",
       "        vertical-align: top;\n",
       "    }\n",
       "\n",
       "    .dataframe thead th {\n",
       "        text-align: right;\n",
       "    }\n",
       "</style>\n",
       "<table border=\"1\" class=\"dataframe\">\n",
       "  <thead>\n",
       "    <tr style=\"text-align: right;\">\n",
       "      <th></th>\n",
       "      <th>C-Deaths</th>\n",
       "      <th>C-Deaths per 100,000 Population</th>\n",
       "    </tr>\n",
       "  </thead>\n",
       "  <tbody>\n",
       "    <tr>\n",
       "      <th>count</th>\n",
       "      <td>8576.000000</td>\n",
       "      <td>8576.000000</td>\n",
       "    </tr>\n",
       "    <tr>\n",
       "      <th>mean</th>\n",
       "      <td>9.608442</td>\n",
       "      <td>8.100119</td>\n",
       "    </tr>\n",
       "    <tr>\n",
       "      <th>std</th>\n",
       "      <td>47.788679</td>\n",
       "      <td>57.856419</td>\n",
       "    </tr>\n",
       "    <tr>\n",
       "      <th>min</th>\n",
       "      <td>-215.000000</td>\n",
       "      <td>-376.713969</td>\n",
       "    </tr>\n",
       "    <tr>\n",
       "      <th>25%</th>\n",
       "      <td>-5.000000</td>\n",
       "      <td>-19.219626</td>\n",
       "    </tr>\n",
       "    <tr>\n",
       "      <th>50%</th>\n",
       "      <td>3.000000</td>\n",
       "      <td>6.951641</td>\n",
       "    </tr>\n",
       "    <tr>\n",
       "      <th>75%</th>\n",
       "      <td>15.000000</td>\n",
       "      <td>36.504127</td>\n",
       "    </tr>\n",
       "    <tr>\n",
       "      <th>max</th>\n",
       "      <td>1496.000000</td>\n",
       "      <td>313.215948</td>\n",
       "    </tr>\n",
       "  </tbody>\n",
       "</table>\n",
       "</div>"
      ],
      "text/plain": [
       "          C-Deaths  C-Deaths per 100,000 Population\n",
       "count  8576.000000                      8576.000000\n",
       "mean      9.608442                         8.100119\n",
       "std      47.788679                        57.856419\n",
       "min    -215.000000                      -376.713969\n",
       "25%      -5.000000                       -19.219626\n",
       "50%       3.000000                         6.951641\n",
       "75%      15.000000                        36.504127\n",
       "max    1496.000000                       313.215948"
      ]
     },
     "execution_count": 10,
     "metadata": {},
     "output_type": "execute_result"
    }
   ],
   "source": [
    "totals_df[['C-Deaths', 'C-Deaths per 100,000 Population']].describe()"
   ]
  },
  {
   "cell_type": "code",
   "execution_count": 13,
   "metadata": {},
   "outputs": [
    {
     "data": {
      "text/html": [
       "<div>\n",
       "<style scoped>\n",
       "    .dataframe tbody tr th:only-of-type {\n",
       "        vertical-align: middle;\n",
       "    }\n",
       "\n",
       "    .dataframe tbody tr th {\n",
       "        vertical-align: top;\n",
       "    }\n",
       "\n",
       "    .dataframe thead th {\n",
       "        text-align: right;\n",
       "    }\n",
       "</style>\n",
       "<table border=\"1\" class=\"dataframe\">\n",
       "  <thead>\n",
       "    <tr style=\"text-align: right;\">\n",
       "      <th></th>\n",
       "      <th>E_TOTPOP</th>\n",
       "      <th>E_HU</th>\n",
       "      <th>E_HH</th>\n",
       "      <th>E_POV</th>\n",
       "      <th>E_UNEMP</th>\n",
       "      <th>E_NOHSDP</th>\n",
       "      <th>E_AGE65</th>\n",
       "      <th>E_AGE17</th>\n",
       "      <th>E_DISABL</th>\n",
       "      <th>E_SNGPNT</th>\n",
       "      <th>...</th>\n",
       "      <th>C-E_LIMENG</th>\n",
       "      <th>C-E_MUNIT</th>\n",
       "      <th>C-E_MOBILE</th>\n",
       "      <th>C-E_CROWD</th>\n",
       "      <th>C-E_NOVEH</th>\n",
       "      <th>C-E_GROUPQ</th>\n",
       "      <th>C-E_UNINSUR</th>\n",
       "      <th>C-E_DAYPOP</th>\n",
       "      <th>C-Deaths</th>\n",
       "      <th>C-Deaths per 100,000 Population</th>\n",
       "    </tr>\n",
       "  </thead>\n",
       "  <tbody>\n",
       "    <tr>\n",
       "      <th>38027_2016</th>\n",
       "      <td>2370.0</td>\n",
       "      <td>1320.0</td>\n",
       "      <td>1043.0</td>\n",
       "      <td>306.0</td>\n",
       "      <td>26.0</td>\n",
       "      <td>185.0</td>\n",
       "      <td>496.0</td>\n",
       "      <td>542.0</td>\n",
       "      <td>295.0</td>\n",
       "      <td>81.0</td>\n",
       "      <td>...</td>\n",
       "      <td>-2.0</td>\n",
       "      <td>-3.0</td>\n",
       "      <td>-9.0</td>\n",
       "      <td>1.0</td>\n",
       "      <td>-1.0</td>\n",
       "      <td>0.0</td>\n",
       "      <td>35.0</td>\n",
       "      <td>105.0</td>\n",
       "      <td>-9.0</td>\n",
       "      <td>-376.713969</td>\n",
       "    </tr>\n",
       "    <tr>\n",
       "      <th>31015_2018</th>\n",
       "      <td>2042.0</td>\n",
       "      <td>1408.0</td>\n",
       "      <td>903.0</td>\n",
       "      <td>213.0</td>\n",
       "      <td>15.0</td>\n",
       "      <td>82.0</td>\n",
       "      <td>575.0</td>\n",
       "      <td>455.0</td>\n",
       "      <td>356.0</td>\n",
       "      <td>28.0</td>\n",
       "      <td>...</td>\n",
       "      <td>2.0</td>\n",
       "      <td>-13.0</td>\n",
       "      <td>-5.0</td>\n",
       "      <td>0.0</td>\n",
       "      <td>-3.0</td>\n",
       "      <td>0.0</td>\n",
       "      <td>39.0</td>\n",
       "      <td>-148.0</td>\n",
       "      <td>-7.0</td>\n",
       "      <td>-359.499367</td>\n",
       "    </tr>\n",
       "    <tr>\n",
       "      <th>35023_2020</th>\n",
       "      <td>4234.0</td>\n",
       "      <td>2467.0</td>\n",
       "      <td>1742.0</td>\n",
       "      <td>1510.0</td>\n",
       "      <td>121.0</td>\n",
       "      <td>530.0</td>\n",
       "      <td>926.0</td>\n",
       "      <td>930.0</td>\n",
       "      <td>804.0</td>\n",
       "      <td>95.0</td>\n",
       "      <td>...</td>\n",
       "      <td>-12.0</td>\n",
       "      <td>32.0</td>\n",
       "      <td>66.0</td>\n",
       "      <td>24.0</td>\n",
       "      <td>-6.0</td>\n",
       "      <td>9.0</td>\n",
       "      <td>-25.0</td>\n",
       "      <td>-149.0</td>\n",
       "      <td>-14.0</td>\n",
       "      <td>-312.890160</td>\n",
       "    </tr>\n",
       "    <tr>\n",
       "      <th>48385_2020</th>\n",
       "      <td>3429.0</td>\n",
       "      <td>2671.0</td>\n",
       "      <td>1254.0</td>\n",
       "      <td>1167.0</td>\n",
       "      <td>13.0</td>\n",
       "      <td>292.0</td>\n",
       "      <td>1019.0</td>\n",
       "      <td>774.0</td>\n",
       "      <td>916.0</td>\n",
       "      <td>44.0</td>\n",
       "      <td>...</td>\n",
       "      <td>2.0</td>\n",
       "      <td>6.0</td>\n",
       "      <td>-41.0</td>\n",
       "      <td>9.0</td>\n",
       "      <td>30.0</td>\n",
       "      <td>2.0</td>\n",
       "      <td>-153.0</td>\n",
       "      <td>-230.0</td>\n",
       "      <td>-10.0</td>\n",
       "      <td>-298.858581</td>\n",
       "    </tr>\n",
       "    <tr>\n",
       "      <th>31169_2020</th>\n",
       "      <td>5000.0</td>\n",
       "      <td>2757.0</td>\n",
       "      <td>2247.0</td>\n",
       "      <td>992.0</td>\n",
       "      <td>44.0</td>\n",
       "      <td>257.0</td>\n",
       "      <td>1287.0</td>\n",
       "      <td>1131.0</td>\n",
       "      <td>679.0</td>\n",
       "      <td>86.0</td>\n",
       "      <td>...</td>\n",
       "      <td>-9.0</td>\n",
       "      <td>5.0</td>\n",
       "      <td>-9.0</td>\n",
       "      <td>-4.0</td>\n",
       "      <td>23.0</td>\n",
       "      <td>-8.0</td>\n",
       "      <td>50.0</td>\n",
       "      <td>-291.0</td>\n",
       "      <td>-14.0</td>\n",
       "      <td>-270.388388</td>\n",
       "    </tr>\n",
       "    <tr>\n",
       "      <th>46089_2016</th>\n",
       "      <td>2252.0</td>\n",
       "      <td>1405.0</td>\n",
       "      <td>1004.0</td>\n",
       "      <td>404.0</td>\n",
       "      <td>65.0</td>\n",
       "      <td>363.0</td>\n",
       "      <td>664.0</td>\n",
       "      <td>369.0</td>\n",
       "      <td>385.0</td>\n",
       "      <td>28.0</td>\n",
       "      <td>...</td>\n",
       "      <td>4.0</td>\n",
       "      <td>17.0</td>\n",
       "      <td>7.0</td>\n",
       "      <td>0.0</td>\n",
       "      <td>-26.0</td>\n",
       "      <td>2.0</td>\n",
       "      <td>70.0</td>\n",
       "      <td>212.0</td>\n",
       "      <td>-7.0</td>\n",
       "      <td>-263.988584</td>\n",
       "    </tr>\n",
       "    <tr>\n",
       "      <th>20049_2020</th>\n",
       "      <td>2502.0</td>\n",
       "      <td>1754.0</td>\n",
       "      <td>1150.0</td>\n",
       "      <td>753.0</td>\n",
       "      <td>60.0</td>\n",
       "      <td>219.0</td>\n",
       "      <td>721.0</td>\n",
       "      <td>549.0</td>\n",
       "      <td>557.0</td>\n",
       "      <td>31.0</td>\n",
       "      <td>...</td>\n",
       "      <td>0.0</td>\n",
       "      <td>-2.0</td>\n",
       "      <td>-58.0</td>\n",
       "      <td>8.0</td>\n",
       "      <td>-9.0</td>\n",
       "      <td>-17.0</td>\n",
       "      <td>37.0</td>\n",
       "      <td>-73.0</td>\n",
       "      <td>-7.0</td>\n",
       "      <td>-263.863850</td>\n",
       "    </tr>\n",
       "    <tr>\n",
       "      <th>13065_2018</th>\n",
       "      <td>6743.0</td>\n",
       "      <td>2997.0</td>\n",
       "      <td>2502.0</td>\n",
       "      <td>2605.0</td>\n",
       "      <td>160.0</td>\n",
       "      <td>1312.0</td>\n",
       "      <td>1023.0</td>\n",
       "      <td>1810.0</td>\n",
       "      <td>1019.0</td>\n",
       "      <td>327.0</td>\n",
       "      <td>...</td>\n",
       "      <td>-20.0</td>\n",
       "      <td>-8.0</td>\n",
       "      <td>246.0</td>\n",
       "      <td>64.0</td>\n",
       "      <td>-73.0</td>\n",
       "      <td>56.0</td>\n",
       "      <td>22.0</td>\n",
       "      <td>-637.0</td>\n",
       "      <td>-18.0</td>\n",
       "      <td>-261.071489</td>\n",
       "    </tr>\n",
       "    <tr>\n",
       "      <th>46067_2018</th>\n",
       "      <td>7315.0</td>\n",
       "      <td>3398.0</td>\n",
       "      <td>2862.0</td>\n",
       "      <td>742.0</td>\n",
       "      <td>149.0</td>\n",
       "      <td>616.0</td>\n",
       "      <td>1685.0</td>\n",
       "      <td>1805.0</td>\n",
       "      <td>1069.0</td>\n",
       "      <td>134.0</td>\n",
       "      <td>...</td>\n",
       "      <td>-3.0</td>\n",
       "      <td>-4.0</td>\n",
       "      <td>-13.0</td>\n",
       "      <td>-2.0</td>\n",
       "      <td>39.0</td>\n",
       "      <td>-141.0</td>\n",
       "      <td>-231.0</td>\n",
       "      <td>-522.0</td>\n",
       "      <td>-18.0</td>\n",
       "      <td>-250.004893</td>\n",
       "    </tr>\n",
       "    <tr>\n",
       "      <th>1131_2016</th>\n",
       "      <td>11119.0</td>\n",
       "      <td>5619.0</td>\n",
       "      <td>3792.0</td>\n",
       "      <td>3768.0</td>\n",
       "      <td>763.0</td>\n",
       "      <td>1499.0</td>\n",
       "      <td>1974.0</td>\n",
       "      <td>2598.0</td>\n",
       "      <td>2007.0</td>\n",
       "      <td>302.0</td>\n",
       "      <td>...</td>\n",
       "      <td>4.0</td>\n",
       "      <td>-7.0</td>\n",
       "      <td>107.0</td>\n",
       "      <td>-29.0</td>\n",
       "      <td>113.0</td>\n",
       "      <td>7.0</td>\n",
       "      <td>-413.0</td>\n",
       "      <td>-147.0</td>\n",
       "      <td>-29.0</td>\n",
       "      <td>-248.453052</td>\n",
       "    </tr>\n",
       "    <tr>\n",
       "      <th>27069_2016</th>\n",
       "      <td>4436.0</td>\n",
       "      <td>2608.0</td>\n",
       "      <td>1913.0</td>\n",
       "      <td>481.0</td>\n",
       "      <td>62.0</td>\n",
       "      <td>259.0</td>\n",
       "      <td>1036.0</td>\n",
       "      <td>958.0</td>\n",
       "      <td>626.0</td>\n",
       "      <td>127.0</td>\n",
       "      <td>...</td>\n",
       "      <td>1.0</td>\n",
       "      <td>-8.0</td>\n",
       "      <td>-6.0</td>\n",
       "      <td>2.0</td>\n",
       "      <td>2.0</td>\n",
       "      <td>37.0</td>\n",
       "      <td>-70.0</td>\n",
       "      <td>109.0</td>\n",
       "      <td>-11.0</td>\n",
       "      <td>-241.134672</td>\n",
       "    </tr>\n",
       "    <tr>\n",
       "      <th>22107_2018</th>\n",
       "      <td>4666.0</td>\n",
       "      <td>3406.0</td>\n",
       "      <td>1825.0</td>\n",
       "      <td>1858.0</td>\n",
       "      <td>266.0</td>\n",
       "      <td>706.0</td>\n",
       "      <td>1061.0</td>\n",
       "      <td>1122.0</td>\n",
       "      <td>504.0</td>\n",
       "      <td>157.0</td>\n",
       "      <td>...</td>\n",
       "      <td>-15.0</td>\n",
       "      <td>-13.0</td>\n",
       "      <td>-6.0</td>\n",
       "      <td>-9.0</td>\n",
       "      <td>-66.0</td>\n",
       "      <td>0.0</td>\n",
       "      <td>-343.0</td>\n",
       "      <td>-234.0</td>\n",
       "      <td>-12.0</td>\n",
       "      <td>-240.143394</td>\n",
       "    </tr>\n",
       "    <tr>\n",
       "      <th>18171_2018</th>\n",
       "      <td>8247.0</td>\n",
       "      <td>3732.0</td>\n",
       "      <td>3384.0</td>\n",
       "      <td>842.0</td>\n",
       "      <td>158.0</td>\n",
       "      <td>497.0</td>\n",
       "      <td>1626.0</td>\n",
       "      <td>1813.0</td>\n",
       "      <td>1359.0</td>\n",
       "      <td>298.0</td>\n",
       "      <td>...</td>\n",
       "      <td>-3.0</td>\n",
       "      <td>5.0</td>\n",
       "      <td>-47.0</td>\n",
       "      <td>-10.0</td>\n",
       "      <td>-5.0</td>\n",
       "      <td>-1.0</td>\n",
       "      <td>-151.0</td>\n",
       "      <td>-118.0</td>\n",
       "      <td>-20.0</td>\n",
       "      <td>-239.526628</td>\n",
       "    </tr>\n",
       "    <tr>\n",
       "      <th>5041_2020</th>\n",
       "      <td>11538.0</td>\n",
       "      <td>6292.0</td>\n",
       "      <td>5059.0</td>\n",
       "      <td>4834.0</td>\n",
       "      <td>230.0</td>\n",
       "      <td>1537.0</td>\n",
       "      <td>2164.0</td>\n",
       "      <td>2962.0</td>\n",
       "      <td>2065.0</td>\n",
       "      <td>496.0</td>\n",
       "      <td>...</td>\n",
       "      <td>3.0</td>\n",
       "      <td>104.0</td>\n",
       "      <td>-238.0</td>\n",
       "      <td>24.0</td>\n",
       "      <td>-108.0</td>\n",
       "      <td>0.0</td>\n",
       "      <td>24.0</td>\n",
       "      <td>-151.0</td>\n",
       "      <td>-29.0</td>\n",
       "      <td>-233.022136</td>\n",
       "    </tr>\n",
       "    <tr>\n",
       "      <th>47175_2018</th>\n",
       "      <td>5704.0</td>\n",
       "      <td>2683.0</td>\n",
       "      <td>2163.0</td>\n",
       "      <td>1060.0</td>\n",
       "      <td>288.0</td>\n",
       "      <td>855.0</td>\n",
       "      <td>1262.0</td>\n",
       "      <td>1066.0</td>\n",
       "      <td>1406.0</td>\n",
       "      <td>69.0</td>\n",
       "      <td>...</td>\n",
       "      <td>0.0</td>\n",
       "      <td>-9.0</td>\n",
       "      <td>-14.0</td>\n",
       "      <td>32.0</td>\n",
       "      <td>55.0</td>\n",
       "      <td>2.0</td>\n",
       "      <td>131.0</td>\n",
       "      <td>-14.0</td>\n",
       "      <td>-13.0</td>\n",
       "      <td>-233.000948</td>\n",
       "    </tr>\n",
       "    <tr>\n",
       "      <th>46077_2016</th>\n",
       "      <td>5070.0</td>\n",
       "      <td>2732.0</td>\n",
       "      <td>2331.0</td>\n",
       "      <td>465.0</td>\n",
       "      <td>58.0</td>\n",
       "      <td>342.0</td>\n",
       "      <td>1107.0</td>\n",
       "      <td>1107.0</td>\n",
       "      <td>696.0</td>\n",
       "      <td>142.0</td>\n",
       "      <td>...</td>\n",
       "      <td>-10.0</td>\n",
       "      <td>11.0</td>\n",
       "      <td>-30.0</td>\n",
       "      <td>5.0</td>\n",
       "      <td>0.0</td>\n",
       "      <td>-59.0</td>\n",
       "      <td>-10.0</td>\n",
       "      <td>443.0</td>\n",
       "      <td>-12.0</td>\n",
       "      <td>-230.421253</td>\n",
       "    </tr>\n",
       "    <tr>\n",
       "      <th>21055_2020</th>\n",
       "      <td>8940.0</td>\n",
       "      <td>4586.0</td>\n",
       "      <td>3588.0</td>\n",
       "      <td>2403.0</td>\n",
       "      <td>108.0</td>\n",
       "      <td>959.0</td>\n",
       "      <td>1839.0</td>\n",
       "      <td>2005.0</td>\n",
       "      <td>2132.0</td>\n",
       "      <td>230.0</td>\n",
       "      <td>...</td>\n",
       "      <td>-17.0</td>\n",
       "      <td>-3.0</td>\n",
       "      <td>-39.0</td>\n",
       "      <td>5.0</td>\n",
       "      <td>-58.0</td>\n",
       "      <td>21.0</td>\n",
       "      <td>-60.0</td>\n",
       "      <td>-46.0</td>\n",
       "      <td>-21.0</td>\n",
       "      <td>-226.446337</td>\n",
       "    </tr>\n",
       "    <tr>\n",
       "      <th>20025_2016</th>\n",
       "      <td>2131.0</td>\n",
       "      <td>1147.0</td>\n",
       "      <td>904.0</td>\n",
       "      <td>281.0</td>\n",
       "      <td>20.0</td>\n",
       "      <td>143.0</td>\n",
       "      <td>455.0</td>\n",
       "      <td>528.0</td>\n",
       "      <td>314.0</td>\n",
       "      <td>91.0</td>\n",
       "      <td>...</td>\n",
       "      <td>-8.0</td>\n",
       "      <td>9.0</td>\n",
       "      <td>9.0</td>\n",
       "      <td>6.0</td>\n",
       "      <td>3.0</td>\n",
       "      <td>5.0</td>\n",
       "      <td>15.0</td>\n",
       "      <td>0.0</td>\n",
       "      <td>-5.0</td>\n",
       "      <td>-221.980983</td>\n",
       "    </tr>\n",
       "    <tr>\n",
       "      <th>28155_2020</th>\n",
       "      <td>9727.0</td>\n",
       "      <td>4867.0</td>\n",
       "      <td>3699.0</td>\n",
       "      <td>2636.0</td>\n",
       "      <td>248.0</td>\n",
       "      <td>1011.0</td>\n",
       "      <td>1752.0</td>\n",
       "      <td>2300.0</td>\n",
       "      <td>2198.0</td>\n",
       "      <td>238.0</td>\n",
       "      <td>...</td>\n",
       "      <td>-8.0</td>\n",
       "      <td>37.0</td>\n",
       "      <td>-14.0</td>\n",
       "      <td>-10.0</td>\n",
       "      <td>16.0</td>\n",
       "      <td>-8.0</td>\n",
       "      <td>-136.0</td>\n",
       "      <td>408.0</td>\n",
       "      <td>-22.0</td>\n",
       "      <td>-220.469363</td>\n",
       "    </tr>\n",
       "    <tr>\n",
       "      <th>41063_2020</th>\n",
       "      <td>7065.0</td>\n",
       "      <td>4234.0</td>\n",
       "      <td>3195.0</td>\n",
       "      <td>1252.0</td>\n",
       "      <td>166.0</td>\n",
       "      <td>312.0</td>\n",
       "      <td>2015.0</td>\n",
       "      <td>1299.0</td>\n",
       "      <td>1306.0</td>\n",
       "      <td>168.0</td>\n",
       "      <td>...</td>\n",
       "      <td>-13.0</td>\n",
       "      <td>-37.0</td>\n",
       "      <td>-103.0</td>\n",
       "      <td>-4.0</td>\n",
       "      <td>-74.0</td>\n",
       "      <td>-1.0</td>\n",
       "      <td>-84.0</td>\n",
       "      <td>1645.0</td>\n",
       "      <td>-15.0</td>\n",
       "      <td>-220.096627</td>\n",
       "    </tr>\n",
       "    <tr>\n",
       "      <th>17153_2020</th>\n",
       "      <td>5414.0</td>\n",
       "      <td>3163.0</td>\n",
       "      <td>2050.0</td>\n",
       "      <td>1850.0</td>\n",
       "      <td>127.0</td>\n",
       "      <td>398.0</td>\n",
       "      <td>1206.0</td>\n",
       "      <td>1156.0</td>\n",
       "      <td>1197.0</td>\n",
       "      <td>134.0</td>\n",
       "      <td>...</td>\n",
       "      <td>-6.0</td>\n",
       "      <td>5.0</td>\n",
       "      <td>-57.0</td>\n",
       "      <td>3.0</td>\n",
       "      <td>-59.0</td>\n",
       "      <td>18.0</td>\n",
       "      <td>58.0</td>\n",
       "      <td>-728.0</td>\n",
       "      <td>-13.0</td>\n",
       "      <td>-220.014817</td>\n",
       "    </tr>\n",
       "    <tr>\n",
       "      <th>20167_2016</th>\n",
       "      <td>6988.0</td>\n",
       "      <td>3885.0</td>\n",
       "      <td>3195.0</td>\n",
       "      <td>893.0</td>\n",
       "      <td>239.0</td>\n",
       "      <td>485.0</td>\n",
       "      <td>1616.0</td>\n",
       "      <td>1506.0</td>\n",
       "      <td>1156.0</td>\n",
       "      <td>241.0</td>\n",
       "      <td>...</td>\n",
       "      <td>3.0</td>\n",
       "      <td>65.0</td>\n",
       "      <td>28.0</td>\n",
       "      <td>-19.0</td>\n",
       "      <td>-90.0</td>\n",
       "      <td>-2.0</td>\n",
       "      <td>53.0</td>\n",
       "      <td>-200.0</td>\n",
       "      <td>-15.0</td>\n",
       "      <td>-216.263826</td>\n",
       "    </tr>\n",
       "    <tr>\n",
       "      <th>29129_2020</th>\n",
       "      <td>3623.0</td>\n",
       "      <td>2124.0</td>\n",
       "      <td>1333.0</td>\n",
       "      <td>888.0</td>\n",
       "      <td>57.0</td>\n",
       "      <td>273.0</td>\n",
       "      <td>786.0</td>\n",
       "      <td>877.0</td>\n",
       "      <td>552.0</td>\n",
       "      <td>52.0</td>\n",
       "      <td>...</td>\n",
       "      <td>9.0</td>\n",
       "      <td>-10.0</td>\n",
       "      <td>-17.0</td>\n",
       "      <td>1.0</td>\n",
       "      <td>-13.0</td>\n",
       "      <td>4.0</td>\n",
       "      <td>-117.0</td>\n",
       "      <td>-580.0</td>\n",
       "      <td>-8.0</td>\n",
       "      <td>-215.252023</td>\n",
       "    </tr>\n",
       "    <tr>\n",
       "      <th>26143_2018</th>\n",
       "      <td>23877.0</td>\n",
       "      <td>24524.0</td>\n",
       "      <td>10899.0</td>\n",
       "      <td>4271.0</td>\n",
       "      <td>970.0</td>\n",
       "      <td>1908.0</td>\n",
       "      <td>7438.0</td>\n",
       "      <td>3653.0</td>\n",
       "      <td>6214.0</td>\n",
       "      <td>762.0</td>\n",
       "      <td>...</td>\n",
       "      <td>29.0</td>\n",
       "      <td>90.0</td>\n",
       "      <td>134.0</td>\n",
       "      <td>-16.0</td>\n",
       "      <td>7.0</td>\n",
       "      <td>-10.0</td>\n",
       "      <td>-811.0</td>\n",
       "      <td>567.0</td>\n",
       "      <td>-51.0</td>\n",
       "      <td>-213.046536</td>\n",
       "    </tr>\n",
       "    <tr>\n",
       "      <th>5013_2020</th>\n",
       "      <td>5160.0</td>\n",
       "      <td>2943.0</td>\n",
       "      <td>1754.0</td>\n",
       "      <td>1174.0</td>\n",
       "      <td>182.0</td>\n",
       "      <td>605.0</td>\n",
       "      <td>1091.0</td>\n",
       "      <td>966.0</td>\n",
       "      <td>1120.0</td>\n",
       "      <td>91.0</td>\n",
       "      <td>...</td>\n",
       "      <td>59.0</td>\n",
       "      <td>9.0</td>\n",
       "      <td>45.0</td>\n",
       "      <td>-21.0</td>\n",
       "      <td>-11.0</td>\n",
       "      <td>-11.0</td>\n",
       "      <td>4.0</td>\n",
       "      <td>-73.0</td>\n",
       "      <td>-11.0</td>\n",
       "      <td>-209.735969</td>\n",
       "    </tr>\n",
       "    <tr>\n",
       "      <th>48239_2020</th>\n",
       "      <td>14822.0</td>\n",
       "      <td>6737.0</td>\n",
       "      <td>4924.0</td>\n",
       "      <td>3294.0</td>\n",
       "      <td>310.0</td>\n",
       "      <td>1844.0</td>\n",
       "      <td>2685.0</td>\n",
       "      <td>3780.0</td>\n",
       "      <td>2737.0</td>\n",
       "      <td>226.0</td>\n",
       "      <td>...</td>\n",
       "      <td>-182.0</td>\n",
       "      <td>-61.0</td>\n",
       "      <td>14.0</td>\n",
       "      <td>-71.0</td>\n",
       "      <td>-3.0</td>\n",
       "      <td>-21.0</td>\n",
       "      <td>330.0</td>\n",
       "      <td>722.0</td>\n",
       "      <td>-31.0</td>\n",
       "      <td>-209.205013</td>\n",
       "    </tr>\n",
       "    <tr>\n",
       "      <th>40055_2016</th>\n",
       "      <td>6081.0</td>\n",
       "      <td>2731.0</td>\n",
       "      <td>2107.0</td>\n",
       "      <td>957.0</td>\n",
       "      <td>147.0</td>\n",
       "      <td>612.0</td>\n",
       "      <td>1133.0</td>\n",
       "      <td>1169.0</td>\n",
       "      <td>1065.0</td>\n",
       "      <td>249.0</td>\n",
       "      <td>...</td>\n",
       "      <td>-40.0</td>\n",
       "      <td>43.0</td>\n",
       "      <td>-16.0</td>\n",
       "      <td>-33.0</td>\n",
       "      <td>-26.0</td>\n",
       "      <td>-49.0</td>\n",
       "      <td>-162.0</td>\n",
       "      <td>-186.0</td>\n",
       "      <td>-13.0</td>\n",
       "      <td>-208.721967</td>\n",
       "    </tr>\n",
       "    <tr>\n",
       "      <th>20095_2020</th>\n",
       "      <td>7173.0</td>\n",
       "      <td>3842.0</td>\n",
       "      <td>3253.0</td>\n",
       "      <td>881.0</td>\n",
       "      <td>144.0</td>\n",
       "      <td>340.0</td>\n",
       "      <td>1567.0</td>\n",
       "      <td>1601.0</td>\n",
       "      <td>969.0</td>\n",
       "      <td>138.0</td>\n",
       "      <td>...</td>\n",
       "      <td>-10.0</td>\n",
       "      <td>-22.0</td>\n",
       "      <td>154.0</td>\n",
       "      <td>14.0</td>\n",
       "      <td>27.0</td>\n",
       "      <td>3.0</td>\n",
       "      <td>-100.0</td>\n",
       "      <td>-405.0</td>\n",
       "      <td>-17.0</td>\n",
       "      <td>-206.514053</td>\n",
       "    </tr>\n",
       "    <tr>\n",
       "      <th>48403_2018</th>\n",
       "      <td>10458.0</td>\n",
       "      <td>8214.0</td>\n",
       "      <td>4099.0</td>\n",
       "      <td>2200.0</td>\n",
       "      <td>244.0</td>\n",
       "      <td>1097.0</td>\n",
       "      <td>3162.0</td>\n",
       "      <td>1964.0</td>\n",
       "      <td>2700.0</td>\n",
       "      <td>239.0</td>\n",
       "      <td>...</td>\n",
       "      <td>3.0</td>\n",
       "      <td>-12.0</td>\n",
       "      <td>-37.0</td>\n",
       "      <td>3.0</td>\n",
       "      <td>-53.0</td>\n",
       "      <td>0.0</td>\n",
       "      <td>-758.0</td>\n",
       "      <td>153.0</td>\n",
       "      <td>-21.0</td>\n",
       "      <td>-205.923207</td>\n",
       "    </tr>\n",
       "    <tr>\n",
       "      <th>22041_2018</th>\n",
       "      <td>20322.0</td>\n",
       "      <td>9191.0</td>\n",
       "      <td>7629.0</td>\n",
       "      <td>5413.0</td>\n",
       "      <td>767.0</td>\n",
       "      <td>3184.0</td>\n",
       "      <td>3525.0</td>\n",
       "      <td>5187.0</td>\n",
       "      <td>3205.0</td>\n",
       "      <td>997.0</td>\n",
       "      <td>...</td>\n",
       "      <td>4.0</td>\n",
       "      <td>-9.0</td>\n",
       "      <td>351.0</td>\n",
       "      <td>-12.0</td>\n",
       "      <td>-223.0</td>\n",
       "      <td>-209.0</td>\n",
       "      <td>-1263.0</td>\n",
       "      <td>-1313.0</td>\n",
       "      <td>-43.0</td>\n",
       "      <td>-205.891076</td>\n",
       "    </tr>\n",
       "    <tr>\n",
       "      <th>29025_2016</th>\n",
       "      <td>9057.0</td>\n",
       "      <td>4605.0</td>\n",
       "      <td>3738.0</td>\n",
       "      <td>1153.0</td>\n",
       "      <td>176.0</td>\n",
       "      <td>624.0</td>\n",
       "      <td>1705.0</td>\n",
       "      <td>2195.0</td>\n",
       "      <td>1587.0</td>\n",
       "      <td>274.0</td>\n",
       "      <td>...</td>\n",
       "      <td>21.0</td>\n",
       "      <td>8.0</td>\n",
       "      <td>48.0</td>\n",
       "      <td>44.0</td>\n",
       "      <td>-6.0</td>\n",
       "      <td>12.0</td>\n",
       "      <td>-235.0</td>\n",
       "      <td>-1182.0</td>\n",
       "      <td>-19.0</td>\n",
       "      <td>-204.770879</td>\n",
       "    </tr>\n",
       "    <tr>\n",
       "      <th>20195_2020</th>\n",
       "      <td>2802.0</td>\n",
       "      <td>1709.0</td>\n",
       "      <td>1353.0</td>\n",
       "      <td>454.0</td>\n",
       "      <td>33.0</td>\n",
       "      <td>124.0</td>\n",
       "      <td>730.0</td>\n",
       "      <td>514.0</td>\n",
       "      <td>389.0</td>\n",
       "      <td>51.0</td>\n",
       "      <td>...</td>\n",
       "      <td>0.0</td>\n",
       "      <td>-15.0</td>\n",
       "      <td>18.0</td>\n",
       "      <td>0.0</td>\n",
       "      <td>2.0</td>\n",
       "      <td>2.0</td>\n",
       "      <td>-60.0</td>\n",
       "      <td>20.0</td>\n",
       "      <td>-6.0</td>\n",
       "      <td>-202.244823</td>\n",
       "    </tr>\n",
       "    <tr>\n",
       "      <th>31161_2016</th>\n",
       "      <td>5259.0</td>\n",
       "      <td>2901.0</td>\n",
       "      <td>2227.0</td>\n",
       "      <td>870.0</td>\n",
       "      <td>55.0</td>\n",
       "      <td>380.0</td>\n",
       "      <td>1287.0</td>\n",
       "      <td>1215.0</td>\n",
       "      <td>815.0</td>\n",
       "      <td>142.0</td>\n",
       "      <td>...</td>\n",
       "      <td>-1.0</td>\n",
       "      <td>-6.0</td>\n",
       "      <td>-22.0</td>\n",
       "      <td>14.0</td>\n",
       "      <td>29.0</td>\n",
       "      <td>10.0</td>\n",
       "      <td>-100.0</td>\n",
       "      <td>-51.0</td>\n",
       "      <td>-11.0</td>\n",
       "      <td>-201.779211</td>\n",
       "    </tr>\n",
       "    <tr>\n",
       "      <th>19091_2016</th>\n",
       "      <td>9607.0</td>\n",
       "      <td>4698.0</td>\n",
       "      <td>4236.0</td>\n",
       "      <td>1286.0</td>\n",
       "      <td>185.0</td>\n",
       "      <td>460.0</td>\n",
       "      <td>1979.0</td>\n",
       "      <td>2244.0</td>\n",
       "      <td>1172.0</td>\n",
       "      <td>417.0</td>\n",
       "      <td>...</td>\n",
       "      <td>-4.0</td>\n",
       "      <td>-1.0</td>\n",
       "      <td>-26.0</td>\n",
       "      <td>1.0</td>\n",
       "      <td>21.0</td>\n",
       "      <td>-21.0</td>\n",
       "      <td>-325.0</td>\n",
       "      <td>-343.0</td>\n",
       "      <td>-20.0</td>\n",
       "      <td>-200.753662</td>\n",
       "    </tr>\n",
       "    <tr>\n",
       "      <th>28157_2018</th>\n",
       "      <td>8990.0</td>\n",
       "      <td>5140.0</td>\n",
       "      <td>2898.0</td>\n",
       "      <td>2587.0</td>\n",
       "      <td>303.0</td>\n",
       "      <td>1760.0</td>\n",
       "      <td>1480.0</td>\n",
       "      <td>1931.0</td>\n",
       "      <td>1913.0</td>\n",
       "      <td>241.0</td>\n",
       "      <td>...</td>\n",
       "      <td>-17.0</td>\n",
       "      <td>26.0</td>\n",
       "      <td>143.0</td>\n",
       "      <td>-25.0</td>\n",
       "      <td>-56.0</td>\n",
       "      <td>41.0</td>\n",
       "      <td>-194.0</td>\n",
       "      <td>-318.0</td>\n",
       "      <td>-19.0</td>\n",
       "      <td>-199.343001</td>\n",
       "    </tr>\n",
       "    <tr>\n",
       "      <th>19141_2020</th>\n",
       "      <td>13796.0</td>\n",
       "      <td>6691.0</td>\n",
       "      <td>5976.0</td>\n",
       "      <td>2856.0</td>\n",
       "      <td>130.0</td>\n",
       "      <td>777.0</td>\n",
       "      <td>2869.0</td>\n",
       "      <td>3254.0</td>\n",
       "      <td>1995.0</td>\n",
       "      <td>174.0</td>\n",
       "      <td>...</td>\n",
       "      <td>19.0</td>\n",
       "      <td>31.0</td>\n",
       "      <td>55.0</td>\n",
       "      <td>99.0</td>\n",
       "      <td>10.0</td>\n",
       "      <td>-89.0</td>\n",
       "      <td>-188.0</td>\n",
       "      <td>-46.0</td>\n",
       "      <td>-28.0</td>\n",
       "      <td>-199.302137</td>\n",
       "    </tr>\n",
       "    <tr>\n",
       "      <th>54103_2016</th>\n",
       "      <td>15997.0</td>\n",
       "      <td>8142.0</td>\n",
       "      <td>6238.0</td>\n",
       "      <td>3340.0</td>\n",
       "      <td>513.0</td>\n",
       "      <td>1944.0</td>\n",
       "      <td>3404.0</td>\n",
       "      <td>3301.0</td>\n",
       "      <td>2766.0</td>\n",
       "      <td>429.0</td>\n",
       "      <td>...</td>\n",
       "      <td>-5.0</td>\n",
       "      <td>-54.0</td>\n",
       "      <td>-56.0</td>\n",
       "      <td>-9.0</td>\n",
       "      <td>-87.0</td>\n",
       "      <td>0.0</td>\n",
       "      <td>-492.0</td>\n",
       "      <td>-1005.0</td>\n",
       "      <td>-33.0</td>\n",
       "      <td>-197.057146</td>\n",
       "    </tr>\n",
       "    <tr>\n",
       "      <th>5117_2016</th>\n",
       "      <td>8334.0</td>\n",
       "      <td>4497.0</td>\n",
       "      <td>3846.0</td>\n",
       "      <td>1617.0</td>\n",
       "      <td>250.0</td>\n",
       "      <td>1057.0</td>\n",
       "      <td>1834.0</td>\n",
       "      <td>1727.0</td>\n",
       "      <td>1854.0</td>\n",
       "      <td>370.0</td>\n",
       "      <td>...</td>\n",
       "      <td>0.0</td>\n",
       "      <td>0.0</td>\n",
       "      <td>-64.0</td>\n",
       "      <td>13.0</td>\n",
       "      <td>16.0</td>\n",
       "      <td>1.0</td>\n",
       "      <td>-290.0</td>\n",
       "      <td>-146.0</td>\n",
       "      <td>-17.0</td>\n",
       "      <td>-195.599219</td>\n",
       "    </tr>\n",
       "    <tr>\n",
       "      <th>29033_2018</th>\n",
       "      <td>8843.0</td>\n",
       "      <td>4642.0</td>\n",
       "      <td>3552.0</td>\n",
       "      <td>1370.0</td>\n",
       "      <td>346.0</td>\n",
       "      <td>835.0</td>\n",
       "      <td>1839.0</td>\n",
       "      <td>2006.0</td>\n",
       "      <td>1441.0</td>\n",
       "      <td>288.0</td>\n",
       "      <td>...</td>\n",
       "      <td>5.0</td>\n",
       "      <td>67.0</td>\n",
       "      <td>2.0</td>\n",
       "      <td>-46.0</td>\n",
       "      <td>39.0</td>\n",
       "      <td>1.0</td>\n",
       "      <td>-167.0</td>\n",
       "      <td>115.0</td>\n",
       "      <td>-18.0</td>\n",
       "      <td>-193.757516</td>\n",
       "    </tr>\n",
       "    <tr>\n",
       "      <th>19173_2018</th>\n",
       "      <td>6201.0</td>\n",
       "      <td>3104.0</td>\n",
       "      <td>2650.0</td>\n",
       "      <td>630.0</td>\n",
       "      <td>114.0</td>\n",
       "      <td>422.0</td>\n",
       "      <td>1357.0</td>\n",
       "      <td>1448.0</td>\n",
       "      <td>958.0</td>\n",
       "      <td>148.0</td>\n",
       "      <td>...</td>\n",
       "      <td>40.0</td>\n",
       "      <td>-6.0</td>\n",
       "      <td>15.0</td>\n",
       "      <td>-5.0</td>\n",
       "      <td>11.0</td>\n",
       "      <td>-1.0</td>\n",
       "      <td>-243.0</td>\n",
       "      <td>17.0</td>\n",
       "      <td>-12.0</td>\n",
       "      <td>-192.893831</td>\n",
       "    </tr>\n",
       "    <tr>\n",
       "      <th>38067_2016</th>\n",
       "      <td>7136.0</td>\n",
       "      <td>3867.0</td>\n",
       "      <td>3273.0</td>\n",
       "      <td>415.0</td>\n",
       "      <td>114.0</td>\n",
       "      <td>574.0</td>\n",
       "      <td>1531.0</td>\n",
       "      <td>1489.0</td>\n",
       "      <td>888.0</td>\n",
       "      <td>188.0</td>\n",
       "      <td>...</td>\n",
       "      <td>0.0</td>\n",
       "      <td>7.0</td>\n",
       "      <td>18.0</td>\n",
       "      <td>-10.0</td>\n",
       "      <td>38.0</td>\n",
       "      <td>-20.0</td>\n",
       "      <td>85.0</td>\n",
       "      <td>-83.0</td>\n",
       "      <td>-14.0</td>\n",
       "      <td>-189.418836</td>\n",
       "    </tr>\n",
       "    <tr>\n",
       "      <th>13061_2016</th>\n",
       "      <td>3068.0</td>\n",
       "      <td>1903.0</td>\n",
       "      <td>1160.0</td>\n",
       "      <td>1199.0</td>\n",
       "      <td>193.0</td>\n",
       "      <td>368.0</td>\n",
       "      <td>733.0</td>\n",
       "      <td>755.0</td>\n",
       "      <td>561.0</td>\n",
       "      <td>124.0</td>\n",
       "      <td>...</td>\n",
       "      <td>0.0</td>\n",
       "      <td>3.0</td>\n",
       "      <td>90.0</td>\n",
       "      <td>-20.0</td>\n",
       "      <td>-66.0</td>\n",
       "      <td>-2.0</td>\n",
       "      <td>50.0</td>\n",
       "      <td>70.0</td>\n",
       "      <td>-6.0</td>\n",
       "      <td>-188.524212</td>\n",
       "    </tr>\n",
       "    <tr>\n",
       "      <th>48075_2018</th>\n",
       "      <td>7226.0</td>\n",
       "      <td>2781.0</td>\n",
       "      <td>2235.0</td>\n",
       "      <td>844.0</td>\n",
       "      <td>346.0</td>\n",
       "      <td>797.0</td>\n",
       "      <td>955.0</td>\n",
       "      <td>1348.0</td>\n",
       "      <td>1014.0</td>\n",
       "      <td>181.0</td>\n",
       "      <td>...</td>\n",
       "      <td>69.0</td>\n",
       "      <td>-203.0</td>\n",
       "      <td>12.0</td>\n",
       "      <td>3.0</td>\n",
       "      <td>-53.0</td>\n",
       "      <td>242.0</td>\n",
       "      <td>90.0</td>\n",
       "      <td>90.0</td>\n",
       "      <td>-13.0</td>\n",
       "      <td>-188.090832</td>\n",
       "    </tr>\n",
       "    <tr>\n",
       "      <th>48507_2020</th>\n",
       "      <td>11930.0</td>\n",
       "      <td>4423.0</td>\n",
       "      <td>3674.0</td>\n",
       "      <td>6494.0</td>\n",
       "      <td>224.0</td>\n",
       "      <td>1724.0</td>\n",
       "      <td>1772.0</td>\n",
       "      <td>3464.0</td>\n",
       "      <td>2134.0</td>\n",
       "      <td>508.0</td>\n",
       "      <td>...</td>\n",
       "      <td>-275.0</td>\n",
       "      <td>-69.0</td>\n",
       "      <td>88.0</td>\n",
       "      <td>63.0</td>\n",
       "      <td>-318.0</td>\n",
       "      <td>-67.0</td>\n",
       "      <td>-286.0</td>\n",
       "      <td>1007.0</td>\n",
       "      <td>-23.0</td>\n",
       "      <td>-186.958063</td>\n",
       "    </tr>\n",
       "    <tr>\n",
       "      <th>29125_2018</th>\n",
       "      <td>8884.0</td>\n",
       "      <td>4626.0</td>\n",
       "      <td>3645.0</td>\n",
       "      <td>1430.0</td>\n",
       "      <td>274.0</td>\n",
       "      <td>862.0</td>\n",
       "      <td>1837.0</td>\n",
       "      <td>1825.0</td>\n",
       "      <td>1663.0</td>\n",
       "      <td>281.0</td>\n",
       "      <td>...</td>\n",
       "      <td>7.0</td>\n",
       "      <td>-4.0</td>\n",
       "      <td>-8.0</td>\n",
       "      <td>11.0</td>\n",
       "      <td>136.0</td>\n",
       "      <td>11.0</td>\n",
       "      <td>-89.0</td>\n",
       "      <td>-422.0</td>\n",
       "      <td>-17.0</td>\n",
       "      <td>-186.323965</td>\n",
       "    </tr>\n",
       "    <tr>\n",
       "      <th>46015_2018</th>\n",
       "      <td>5256.0</td>\n",
       "      <td>2549.0</td>\n",
       "      <td>2221.0</td>\n",
       "      <td>901.0</td>\n",
       "      <td>57.0</td>\n",
       "      <td>443.0</td>\n",
       "      <td>910.0</td>\n",
       "      <td>1335.0</td>\n",
       "      <td>798.0</td>\n",
       "      <td>234.0</td>\n",
       "      <td>...</td>\n",
       "      <td>-8.0</td>\n",
       "      <td>67.0</td>\n",
       "      <td>-10.0</td>\n",
       "      <td>-27.0</td>\n",
       "      <td>11.0</td>\n",
       "      <td>47.0</td>\n",
       "      <td>-80.0</td>\n",
       "      <td>-278.0</td>\n",
       "      <td>-10.0</td>\n",
       "      <td>-185.846124</td>\n",
       "    </tr>\n",
       "    <tr>\n",
       "      <th>21189_2016</th>\n",
       "      <td>4552.0</td>\n",
       "      <td>2169.0</td>\n",
       "      <td>1681.0</td>\n",
       "      <td>1652.0</td>\n",
       "      <td>120.0</td>\n",
       "      <td>934.0</td>\n",
       "      <td>741.0</td>\n",
       "      <td>974.0</td>\n",
       "      <td>1258.0</td>\n",
       "      <td>190.0</td>\n",
       "      <td>...</td>\n",
       "      <td>0.0</td>\n",
       "      <td>-1.0</td>\n",
       "      <td>-29.0</td>\n",
       "      <td>-3.0</td>\n",
       "      <td>-58.0</td>\n",
       "      <td>-9.0</td>\n",
       "      <td>-237.0</td>\n",
       "      <td>165.0</td>\n",
       "      <td>-9.0</td>\n",
       "      <td>-185.151223</td>\n",
       "    </tr>\n",
       "    <tr>\n",
       "      <th>5095_2020</th>\n",
       "      <td>6879.0</td>\n",
       "      <td>4445.0</td>\n",
       "      <td>3234.0</td>\n",
       "      <td>2377.0</td>\n",
       "      <td>192.0</td>\n",
       "      <td>1044.0</td>\n",
       "      <td>1573.0</td>\n",
       "      <td>1443.0</td>\n",
       "      <td>1679.0</td>\n",
       "      <td>256.0</td>\n",
       "      <td>...</td>\n",
       "      <td>-6.0</td>\n",
       "      <td>58.0</td>\n",
       "      <td>79.0</td>\n",
       "      <td>136.0</td>\n",
       "      <td>-30.0</td>\n",
       "      <td>3.0</td>\n",
       "      <td>-137.0</td>\n",
       "      <td>-496.0</td>\n",
       "      <td>-15.0</td>\n",
       "      <td>-184.665380</td>\n",
       "    </tr>\n",
       "    <tr>\n",
       "      <th>47083_2020</th>\n",
       "      <td>8201.0</td>\n",
       "      <td>4238.0</td>\n",
       "      <td>2919.0</td>\n",
       "      <td>1888.0</td>\n",
       "      <td>196.0</td>\n",
       "      <td>1162.0</td>\n",
       "      <td>1692.0</td>\n",
       "      <td>1781.0</td>\n",
       "      <td>1578.0</td>\n",
       "      <td>171.0</td>\n",
       "      <td>...</td>\n",
       "      <td>-17.0</td>\n",
       "      <td>-10.0</td>\n",
       "      <td>22.0</td>\n",
       "      <td>9.0</td>\n",
       "      <td>-21.0</td>\n",
       "      <td>-3.0</td>\n",
       "      <td>-106.0</td>\n",
       "      <td>-148.0</td>\n",
       "      <td>-15.0</td>\n",
       "      <td>-184.433202</td>\n",
       "    </tr>\n",
       "    <tr>\n",
       "      <th>30005_2016</th>\n",
       "      <td>6609.0</td>\n",
       "      <td>2816.0</td>\n",
       "      <td>2273.0</td>\n",
       "      <td>1856.0</td>\n",
       "      <td>430.0</td>\n",
       "      <td>426.0</td>\n",
       "      <td>938.0</td>\n",
       "      <td>1993.0</td>\n",
       "      <td>1250.0</td>\n",
       "      <td>225.0</td>\n",
       "      <td>...</td>\n",
       "      <td>-8.0</td>\n",
       "      <td>-23.0</td>\n",
       "      <td>-52.0</td>\n",
       "      <td>46.0</td>\n",
       "      <td>-43.0</td>\n",
       "      <td>-13.0</td>\n",
       "      <td>-289.0</td>\n",
       "      <td>520.0</td>\n",
       "      <td>-12.0</td>\n",
       "      <td>-183.620710</td>\n",
       "    </tr>\n",
       "  </tbody>\n",
       "</table>\n",
       "<p>50 rows × 42 columns</p>\n",
       "</div>"
      ],
      "text/plain": [
       "            E_TOTPOP     E_HU     E_HH   E_POV  E_UNEMP  E_NOHSDP  E_AGE65  \\\n",
       "38027_2016    2370.0   1320.0   1043.0   306.0     26.0     185.0    496.0   \n",
       "31015_2018    2042.0   1408.0    903.0   213.0     15.0      82.0    575.0   \n",
       "35023_2020    4234.0   2467.0   1742.0  1510.0    121.0     530.0    926.0   \n",
       "48385_2020    3429.0   2671.0   1254.0  1167.0     13.0     292.0   1019.0   \n",
       "31169_2020    5000.0   2757.0   2247.0   992.0     44.0     257.0   1287.0   \n",
       "46089_2016    2252.0   1405.0   1004.0   404.0     65.0     363.0    664.0   \n",
       "20049_2020    2502.0   1754.0   1150.0   753.0     60.0     219.0    721.0   \n",
       "13065_2018    6743.0   2997.0   2502.0  2605.0    160.0    1312.0   1023.0   \n",
       "46067_2018    7315.0   3398.0   2862.0   742.0    149.0     616.0   1685.0   \n",
       "1131_2016    11119.0   5619.0   3792.0  3768.0    763.0    1499.0   1974.0   \n",
       "27069_2016    4436.0   2608.0   1913.0   481.0     62.0     259.0   1036.0   \n",
       "22107_2018    4666.0   3406.0   1825.0  1858.0    266.0     706.0   1061.0   \n",
       "18171_2018    8247.0   3732.0   3384.0   842.0    158.0     497.0   1626.0   \n",
       "5041_2020    11538.0   6292.0   5059.0  4834.0    230.0    1537.0   2164.0   \n",
       "47175_2018    5704.0   2683.0   2163.0  1060.0    288.0     855.0   1262.0   \n",
       "46077_2016    5070.0   2732.0   2331.0   465.0     58.0     342.0   1107.0   \n",
       "21055_2020    8940.0   4586.0   3588.0  2403.0    108.0     959.0   1839.0   \n",
       "20025_2016    2131.0   1147.0    904.0   281.0     20.0     143.0    455.0   \n",
       "28155_2020    9727.0   4867.0   3699.0  2636.0    248.0    1011.0   1752.0   \n",
       "41063_2020    7065.0   4234.0   3195.0  1252.0    166.0     312.0   2015.0   \n",
       "17153_2020    5414.0   3163.0   2050.0  1850.0    127.0     398.0   1206.0   \n",
       "20167_2016    6988.0   3885.0   3195.0   893.0    239.0     485.0   1616.0   \n",
       "29129_2020    3623.0   2124.0   1333.0   888.0     57.0     273.0    786.0   \n",
       "26143_2018   23877.0  24524.0  10899.0  4271.0    970.0    1908.0   7438.0   \n",
       "5013_2020     5160.0   2943.0   1754.0  1174.0    182.0     605.0   1091.0   \n",
       "48239_2020   14822.0   6737.0   4924.0  3294.0    310.0    1844.0   2685.0   \n",
       "40055_2016    6081.0   2731.0   2107.0   957.0    147.0     612.0   1133.0   \n",
       "20095_2020    7173.0   3842.0   3253.0   881.0    144.0     340.0   1567.0   \n",
       "48403_2018   10458.0   8214.0   4099.0  2200.0    244.0    1097.0   3162.0   \n",
       "22041_2018   20322.0   9191.0   7629.0  5413.0    767.0    3184.0   3525.0   \n",
       "29025_2016    9057.0   4605.0   3738.0  1153.0    176.0     624.0   1705.0   \n",
       "20195_2020    2802.0   1709.0   1353.0   454.0     33.0     124.0    730.0   \n",
       "31161_2016    5259.0   2901.0   2227.0   870.0     55.0     380.0   1287.0   \n",
       "19091_2016    9607.0   4698.0   4236.0  1286.0    185.0     460.0   1979.0   \n",
       "28157_2018    8990.0   5140.0   2898.0  2587.0    303.0    1760.0   1480.0   \n",
       "19141_2020   13796.0   6691.0   5976.0  2856.0    130.0     777.0   2869.0   \n",
       "54103_2016   15997.0   8142.0   6238.0  3340.0    513.0    1944.0   3404.0   \n",
       "5117_2016     8334.0   4497.0   3846.0  1617.0    250.0    1057.0   1834.0   \n",
       "29033_2018    8843.0   4642.0   3552.0  1370.0    346.0     835.0   1839.0   \n",
       "19173_2018    6201.0   3104.0   2650.0   630.0    114.0     422.0   1357.0   \n",
       "38067_2016    7136.0   3867.0   3273.0   415.0    114.0     574.0   1531.0   \n",
       "13061_2016    3068.0   1903.0   1160.0  1199.0    193.0     368.0    733.0   \n",
       "48075_2018    7226.0   2781.0   2235.0   844.0    346.0     797.0    955.0   \n",
       "48507_2020   11930.0   4423.0   3674.0  6494.0    224.0    1724.0   1772.0   \n",
       "29125_2018    8884.0   4626.0   3645.0  1430.0    274.0     862.0   1837.0   \n",
       "46015_2018    5256.0   2549.0   2221.0   901.0     57.0     443.0    910.0   \n",
       "21189_2016    4552.0   2169.0   1681.0  1652.0    120.0     934.0    741.0   \n",
       "5095_2020     6879.0   4445.0   3234.0  2377.0    192.0    1044.0   1573.0   \n",
       "47083_2020    8201.0   4238.0   2919.0  1888.0    196.0    1162.0   1692.0   \n",
       "30005_2016    6609.0   2816.0   2273.0  1856.0    430.0     426.0    938.0   \n",
       "\n",
       "            E_AGE17  E_DISABL  E_SNGPNT  ...  C-E_LIMENG  C-E_MUNIT  \\\n",
       "38027_2016    542.0     295.0      81.0  ...        -2.0       -3.0   \n",
       "31015_2018    455.0     356.0      28.0  ...         2.0      -13.0   \n",
       "35023_2020    930.0     804.0      95.0  ...       -12.0       32.0   \n",
       "48385_2020    774.0     916.0      44.0  ...         2.0        6.0   \n",
       "31169_2020   1131.0     679.0      86.0  ...        -9.0        5.0   \n",
       "46089_2016    369.0     385.0      28.0  ...         4.0       17.0   \n",
       "20049_2020    549.0     557.0      31.0  ...         0.0       -2.0   \n",
       "13065_2018   1810.0    1019.0     327.0  ...       -20.0       -8.0   \n",
       "46067_2018   1805.0    1069.0     134.0  ...        -3.0       -4.0   \n",
       "1131_2016    2598.0    2007.0     302.0  ...         4.0       -7.0   \n",
       "27069_2016    958.0     626.0     127.0  ...         1.0       -8.0   \n",
       "22107_2018   1122.0     504.0     157.0  ...       -15.0      -13.0   \n",
       "18171_2018   1813.0    1359.0     298.0  ...        -3.0        5.0   \n",
       "5041_2020    2962.0    2065.0     496.0  ...         3.0      104.0   \n",
       "47175_2018   1066.0    1406.0      69.0  ...         0.0       -9.0   \n",
       "46077_2016   1107.0     696.0     142.0  ...       -10.0       11.0   \n",
       "21055_2020   2005.0    2132.0     230.0  ...       -17.0       -3.0   \n",
       "20025_2016    528.0     314.0      91.0  ...        -8.0        9.0   \n",
       "28155_2020   2300.0    2198.0     238.0  ...        -8.0       37.0   \n",
       "41063_2020   1299.0    1306.0     168.0  ...       -13.0      -37.0   \n",
       "17153_2020   1156.0    1197.0     134.0  ...        -6.0        5.0   \n",
       "20167_2016   1506.0    1156.0     241.0  ...         3.0       65.0   \n",
       "29129_2020    877.0     552.0      52.0  ...         9.0      -10.0   \n",
       "26143_2018   3653.0    6214.0     762.0  ...        29.0       90.0   \n",
       "5013_2020     966.0    1120.0      91.0  ...        59.0        9.0   \n",
       "48239_2020   3780.0    2737.0     226.0  ...      -182.0      -61.0   \n",
       "40055_2016   1169.0    1065.0     249.0  ...       -40.0       43.0   \n",
       "20095_2020   1601.0     969.0     138.0  ...       -10.0      -22.0   \n",
       "48403_2018   1964.0    2700.0     239.0  ...         3.0      -12.0   \n",
       "22041_2018   5187.0    3205.0     997.0  ...         4.0       -9.0   \n",
       "29025_2016   2195.0    1587.0     274.0  ...        21.0        8.0   \n",
       "20195_2020    514.0     389.0      51.0  ...         0.0      -15.0   \n",
       "31161_2016   1215.0     815.0     142.0  ...        -1.0       -6.0   \n",
       "19091_2016   2244.0    1172.0     417.0  ...        -4.0       -1.0   \n",
       "28157_2018   1931.0    1913.0     241.0  ...       -17.0       26.0   \n",
       "19141_2020   3254.0    1995.0     174.0  ...        19.0       31.0   \n",
       "54103_2016   3301.0    2766.0     429.0  ...        -5.0      -54.0   \n",
       "5117_2016    1727.0    1854.0     370.0  ...         0.0        0.0   \n",
       "29033_2018   2006.0    1441.0     288.0  ...         5.0       67.0   \n",
       "19173_2018   1448.0     958.0     148.0  ...        40.0       -6.0   \n",
       "38067_2016   1489.0     888.0     188.0  ...         0.0        7.0   \n",
       "13061_2016    755.0     561.0     124.0  ...         0.0        3.0   \n",
       "48075_2018   1348.0    1014.0     181.0  ...        69.0     -203.0   \n",
       "48507_2020   3464.0    2134.0     508.0  ...      -275.0      -69.0   \n",
       "29125_2018   1825.0    1663.0     281.0  ...         7.0       -4.0   \n",
       "46015_2018   1335.0     798.0     234.0  ...        -8.0       67.0   \n",
       "21189_2016    974.0    1258.0     190.0  ...         0.0       -1.0   \n",
       "5095_2020    1443.0    1679.0     256.0  ...        -6.0       58.0   \n",
       "47083_2020   1781.0    1578.0     171.0  ...       -17.0      -10.0   \n",
       "30005_2016   1993.0    1250.0     225.0  ...        -8.0      -23.0   \n",
       "\n",
       "            C-E_MOBILE  C-E_CROWD  C-E_NOVEH  C-E_GROUPQ  C-E_UNINSUR  \\\n",
       "38027_2016        -9.0        1.0       -1.0         0.0         35.0   \n",
       "31015_2018        -5.0        0.0       -3.0         0.0         39.0   \n",
       "35023_2020        66.0       24.0       -6.0         9.0        -25.0   \n",
       "48385_2020       -41.0        9.0       30.0         2.0       -153.0   \n",
       "31169_2020        -9.0       -4.0       23.0        -8.0         50.0   \n",
       "46089_2016         7.0        0.0      -26.0         2.0         70.0   \n",
       "20049_2020       -58.0        8.0       -9.0       -17.0         37.0   \n",
       "13065_2018       246.0       64.0      -73.0        56.0         22.0   \n",
       "46067_2018       -13.0       -2.0       39.0      -141.0       -231.0   \n",
       "1131_2016        107.0      -29.0      113.0         7.0       -413.0   \n",
       "27069_2016        -6.0        2.0        2.0        37.0        -70.0   \n",
       "22107_2018        -6.0       -9.0      -66.0         0.0       -343.0   \n",
       "18171_2018       -47.0      -10.0       -5.0        -1.0       -151.0   \n",
       "5041_2020       -238.0       24.0     -108.0         0.0         24.0   \n",
       "47175_2018       -14.0       32.0       55.0         2.0        131.0   \n",
       "46077_2016       -30.0        5.0        0.0       -59.0        -10.0   \n",
       "21055_2020       -39.0        5.0      -58.0        21.0        -60.0   \n",
       "20025_2016         9.0        6.0        3.0         5.0         15.0   \n",
       "28155_2020       -14.0      -10.0       16.0        -8.0       -136.0   \n",
       "41063_2020      -103.0       -4.0      -74.0        -1.0        -84.0   \n",
       "17153_2020       -57.0        3.0      -59.0        18.0         58.0   \n",
       "20167_2016        28.0      -19.0      -90.0        -2.0         53.0   \n",
       "29129_2020       -17.0        1.0      -13.0         4.0       -117.0   \n",
       "26143_2018       134.0      -16.0        7.0       -10.0       -811.0   \n",
       "5013_2020         45.0      -21.0      -11.0       -11.0          4.0   \n",
       "48239_2020        14.0      -71.0       -3.0       -21.0        330.0   \n",
       "40055_2016       -16.0      -33.0      -26.0       -49.0       -162.0   \n",
       "20095_2020       154.0       14.0       27.0         3.0       -100.0   \n",
       "48403_2018       -37.0        3.0      -53.0         0.0       -758.0   \n",
       "22041_2018       351.0      -12.0     -223.0      -209.0      -1263.0   \n",
       "29025_2016        48.0       44.0       -6.0        12.0       -235.0   \n",
       "20195_2020        18.0        0.0        2.0         2.0        -60.0   \n",
       "31161_2016       -22.0       14.0       29.0        10.0       -100.0   \n",
       "19091_2016       -26.0        1.0       21.0       -21.0       -325.0   \n",
       "28157_2018       143.0      -25.0      -56.0        41.0       -194.0   \n",
       "19141_2020        55.0       99.0       10.0       -89.0       -188.0   \n",
       "54103_2016       -56.0       -9.0      -87.0         0.0       -492.0   \n",
       "5117_2016        -64.0       13.0       16.0         1.0       -290.0   \n",
       "29033_2018         2.0      -46.0       39.0         1.0       -167.0   \n",
       "19173_2018        15.0       -5.0       11.0        -1.0       -243.0   \n",
       "38067_2016        18.0      -10.0       38.0       -20.0         85.0   \n",
       "13061_2016        90.0      -20.0      -66.0        -2.0         50.0   \n",
       "48075_2018        12.0        3.0      -53.0       242.0         90.0   \n",
       "48507_2020        88.0       63.0     -318.0       -67.0       -286.0   \n",
       "29125_2018        -8.0       11.0      136.0        11.0        -89.0   \n",
       "46015_2018       -10.0      -27.0       11.0        47.0        -80.0   \n",
       "21189_2016       -29.0       -3.0      -58.0        -9.0       -237.0   \n",
       "5095_2020         79.0      136.0      -30.0         3.0       -137.0   \n",
       "47083_2020        22.0        9.0      -21.0        -3.0       -106.0   \n",
       "30005_2016       -52.0       46.0      -43.0       -13.0       -289.0   \n",
       "\n",
       "            C-E_DAYPOP  C-Deaths  C-Deaths per 100,000 Population  \n",
       "38027_2016       105.0      -9.0                      -376.713969  \n",
       "31015_2018      -148.0      -7.0                      -359.499367  \n",
       "35023_2020      -149.0     -14.0                      -312.890160  \n",
       "48385_2020      -230.0     -10.0                      -298.858581  \n",
       "31169_2020      -291.0     -14.0                      -270.388388  \n",
       "46089_2016       212.0      -7.0                      -263.988584  \n",
       "20049_2020       -73.0      -7.0                      -263.863850  \n",
       "13065_2018      -637.0     -18.0                      -261.071489  \n",
       "46067_2018      -522.0     -18.0                      -250.004893  \n",
       "1131_2016       -147.0     -29.0                      -248.453052  \n",
       "27069_2016       109.0     -11.0                      -241.134672  \n",
       "22107_2018      -234.0     -12.0                      -240.143394  \n",
       "18171_2018      -118.0     -20.0                      -239.526628  \n",
       "5041_2020       -151.0     -29.0                      -233.022136  \n",
       "47175_2018       -14.0     -13.0                      -233.000948  \n",
       "46077_2016       443.0     -12.0                      -230.421253  \n",
       "21055_2020       -46.0     -21.0                      -226.446337  \n",
       "20025_2016         0.0      -5.0                      -221.980983  \n",
       "28155_2020       408.0     -22.0                      -220.469363  \n",
       "41063_2020      1645.0     -15.0                      -220.096627  \n",
       "17153_2020      -728.0     -13.0                      -220.014817  \n",
       "20167_2016      -200.0     -15.0                      -216.263826  \n",
       "29129_2020      -580.0      -8.0                      -215.252023  \n",
       "26143_2018       567.0     -51.0                      -213.046536  \n",
       "5013_2020        -73.0     -11.0                      -209.735969  \n",
       "48239_2020       722.0     -31.0                      -209.205013  \n",
       "40055_2016      -186.0     -13.0                      -208.721967  \n",
       "20095_2020      -405.0     -17.0                      -206.514053  \n",
       "48403_2018       153.0     -21.0                      -205.923207  \n",
       "22041_2018     -1313.0     -43.0                      -205.891076  \n",
       "29025_2016     -1182.0     -19.0                      -204.770879  \n",
       "20195_2020        20.0      -6.0                      -202.244823  \n",
       "31161_2016       -51.0     -11.0                      -201.779211  \n",
       "19091_2016      -343.0     -20.0                      -200.753662  \n",
       "28157_2018      -318.0     -19.0                      -199.343001  \n",
       "19141_2020       -46.0     -28.0                      -199.302137  \n",
       "54103_2016     -1005.0     -33.0                      -197.057146  \n",
       "5117_2016       -146.0     -17.0                      -195.599219  \n",
       "29033_2018       115.0     -18.0                      -193.757516  \n",
       "19173_2018        17.0     -12.0                      -192.893831  \n",
       "38067_2016       -83.0     -14.0                      -189.418836  \n",
       "13061_2016        70.0      -6.0                      -188.524212  \n",
       "48075_2018        90.0     -13.0                      -188.090832  \n",
       "48507_2020      1007.0     -23.0                      -186.958063  \n",
       "29125_2018      -422.0     -17.0                      -186.323965  \n",
       "46015_2018      -278.0     -10.0                      -185.846124  \n",
       "21189_2016       165.0      -9.0                      -185.151223  \n",
       "5095_2020       -496.0     -15.0                      -184.665380  \n",
       "47083_2020      -148.0     -15.0                      -184.433202  \n",
       "30005_2016       520.0     -12.0                      -183.620710  \n",
       "\n",
       "[50 rows x 42 columns]"
      ]
     },
     "execution_count": 13,
     "metadata": {},
     "output_type": "execute_result"
    }
   ],
   "source": [
    "totals_df.sort_values(by=['C-Deaths per 100,000 Population']).head(50)"
   ]
  },
  {
   "cell_type": "code",
   "execution_count": null,
   "metadata": {},
   "outputs": [],
   "source": []
  }
 ],
 "metadata": {
  "kernelspec": {
   "display_name": "Python 3",
   "language": "python",
   "name": "python3"
  },
  "language_info": {
   "codemirror_mode": {
    "name": "ipython",
    "version": 3
   },
   "file_extension": ".py",
   "mimetype": "text/x-python",
   "name": "python",
   "nbconvert_exporter": "python",
   "pygments_lexer": "ipython3",
   "version": "3.10.10"
  },
  "orig_nbformat": 4,
  "vscode": {
   "interpreter": {
    "hash": "796a2b5adaaa842c9b78e62f6009df4de6b28861ed15d27911e5c87767f65f4d"
   }
  }
 },
 "nbformat": 4,
 "nbformat_minor": 2
}
